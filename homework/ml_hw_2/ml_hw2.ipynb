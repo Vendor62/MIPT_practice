{
 "cells": [
  {
   "cell_type": "markdown",
   "metadata": {
    "id": "NyHIGVhfa_Wf"
   },
   "source": [
    "# Стохастический градиентный и координатный спуски"
   ]
  },
  {
   "cell_type": "markdown",
   "metadata": {
    "id": "gn6lluIADUKa"
   },
   "source": [
    "Для каждого задания указано количество баллов (если они оцениваются отдельно) + 1 балл за аккуратное и полное выполнение всего задания"
   ]
  },
  {
   "cell_type": "markdown",
   "metadata": {
    "id": "txCccYvha_Wv"
   },
   "source": [
    "## Загрузка и подготовка данных"
   ]
  },
  {
   "cell_type": "markdown",
   "metadata": {
    "id": "NbyOzeZ6a_Wx"
   },
   "source": [
    "**Загрузите уже знакомый вам файл *Advertising.csv* как объект DataFrame.** "
   ]
  },
  {
   "cell_type": "code",
   "execution_count": 48,
   "metadata": {},
   "outputs": [],
   "source": [
    "import numpy as np\n",
    "import pandas as pd\n",
    "import matplotlib.pyplot as plt\n",
    "from sklearn.linear_model import LinearRegression"
   ]
  },
  {
   "cell_type": "code",
   "execution_count": 2,
   "metadata": {
    "id": "E1L4_xeDa_Wz"
   },
   "outputs": [],
   "source": [
    "df = pd.read_csv('D:\\ds\\mipt\\Advertising.csv',index_col=0)"
   ]
  },
  {
   "cell_type": "markdown",
   "metadata": {
    "id": "bf4aVFndDUKf"
   },
   "source": [
    "**Проверьте, есть ли в данных пропуски и, если они есть - удалите их**"
   ]
  },
  {
   "cell_type": "code",
   "execution_count": 3,
   "metadata": {
    "id": "tiVeFnR5DUKg"
   },
   "outputs": [
    {
     "data": {
      "text/plain": [
       "TV           0\n",
       "radio        0\n",
       "newspaper    0\n",
       "sales        0\n",
       "dtype: int64"
      ]
     },
     "execution_count": 3,
     "metadata": {},
     "output_type": "execute_result"
    }
   ],
   "source": [
    "df.isna().sum()"
   ]
  },
  {
   "cell_type": "markdown",
   "metadata": {
    "id": "rTkiqPr_DUKh"
   },
   "source": [
    "**Преобразуйте ваши признаки в массивы NumPy и разделите их на переменные X (предикторы) и y(целевая переменная)** "
   ]
  },
  {
   "cell_type": "code",
   "execution_count": 4,
   "metadata": {
    "id": "R9OHIRB3a_Xa"
   },
   "outputs": [],
   "source": [
    "X = df[['TV', 'radio', 'newspaper']].values\n",
    "y = df['sales'].values"
   ]
  },
  {
   "cell_type": "markdown",
   "metadata": {
    "id": "KCvjSoHEDUKo"
   },
   "source": [
    "## Координатный спуск (3 балла)"
   ]
  },
  {
   "cell_type": "markdown",
   "metadata": {
    "id": "yjNm8dATDUKq"
   },
   "source": [
    "**Добавим единичный столбец для того, чтобы у нас был свободный коэффициент в уравнении регрессии:**"
   ]
  },
  {
   "cell_type": "code",
   "execution_count": 5,
   "metadata": {
    "id": "LMgq0fmKDUKr"
   },
   "outputs": [],
   "source": [
    "X = np.hstack([np.ones(X.shape[0]).reshape(-1, 1), X])"
   ]
  },
  {
   "cell_type": "markdown",
   "metadata": {
    "id": "R008OQwcDUKt"
   },
   "source": [
    "**Нормализуем данные: обычно это необходимо для корректной работы алгоритма**"
   ]
  },
  {
   "cell_type": "code",
   "execution_count": 6,
   "metadata": {
    "id": "2Sk7Wx-SDUKt"
   },
   "outputs": [],
   "source": [
    "X = X / np.sqrt(np.sum(np.square(X), axis=0))"
   ]
  },
  {
   "cell_type": "markdown",
   "metadata": {
    "id": "F_pHHbAdDUKu"
   },
   "source": [
    "**Реализуйте алгоритм координатного спуска:** (3 балла)\n",
    "\n",
    "Ниже приведен алгоритм:"
   ]
  },
  {
   "cell_type": "markdown",
   "metadata": {
    "id": "jBQ8vT5UDUKu"
   },
   "source": [
    "<a href=\"https://ibb.co/Th3BQFn\"><img src=\"https://i.ibb.co/DK2DBS6/zascas.jpg\" alt=\"zascas\" border=\"0\"></a>"
   ]
  },
  {
   "cell_type": "markdown",
   "metadata": {
    "id": "5ce_yM20DUKv"
   },
   "source": [
    "Примечание: 1000 итераций здесь указаны для этого задания, на самом деле их может быть намного больше, нет детерменированного значения."
   ]
  },
  {
   "cell_type": "markdown",
   "metadata": {
    "id": "y3IdiHm9DUKv"
   },
   "source": [
    "Вам необходимо реализовать координатный спуск, и вывести веса в модели линейной регрессии."
   ]
  },
  {
   "cell_type": "markdown",
   "metadata": {},
   "source": [
    "<div style=\"border: 1px solid red; padding: 10px; border-radius: 5px;\">\n",
    "\n",
    "### Описание алгоритма:\n",
    "\n",
    "**1. Инициализируем вектор с весами `w`.**\n",
    "- определяется как вектор-столбец, количество признаков в котором соответствует размерности `X` \n",
    "- на начальном этапе заполняется нулями<br><br>\n",
    "\n",
    "**2. Инициализируем цикл.**\n",
    "- внешний цикл контролирует количество итераций \n",
    "- внутренний цикл перебирает столбцы с признаками<br><br>\n",
    "\n",
    "**3. Инициализируем вектор остатков `r`.**\n",
    "- хранит разницу между реальными и предсказанными значениями\n",
    "- будет обновляться на каждой итерации для корректировки весов, чтобы минимизировать ошибку предсказания<br><br>\n",
    "\n",
    "**4. Вычисляем остатки без учета вклада текущего признака `r_minus_j`.**\n",
    "- `r` — это текущий вектор остатков.\n",
    "- `X[:,j:j+1]` — это срез матрицы `X`, который извлекает j-й столбец в виде двумерного массива.\n",
    "- `w[j]` — это текущий вес для j-го признака.\n",
    "- `X[:,j:j+1]∗w[j]` здесь происходит поэлементное умножение столбца j-го признака на его текущий вес.<br>\n",
    "   Результат — вектор, который показывает вклад j-го признака в предсказанные значения для каждого наблюдения.\n",
    "- `r+X[:,j:j+1]∗w[j]` здесь мы добавляем обратно вклад текущего j-го признака к остаткам `r`.<br> \n",
    "   По сути мы как бы возвращаем вклад j-го признака в целевую переменную и исключаем его из разности в векторе остатков.<br><br>\n",
    "\n",
    "**5. Обновляем текущий `w[j]`.**\n",
    "- `X[:, j].T @ r_minus_j` произведение вектора признака и вектора остатков без учёта признака.<br>\n",
    "   Это даст нам скалярное значение, которое отражает, насколько хорошо j-й признак объясняет остатки.\n",
    "- `X[:,j].T@X[:,j]` — это норма j-го признака. Она показывает, насколько сильно варьируется признак.<br> \n",
    "   Если признак имеет большую дисперсию, его влияние будет больше, и для коррекции веса `w[j]` это учитывается.<br>\n",
    "   Так как признаки в нашем случае нормализованы изначально, то в целом этого можно было бы и не делать, упростив вычисления.\n",
    "- Делим числитель на знаменатель и тем самым обновляем вес `w[j]` так, чтобы минимизировать остатки, с учётом того, насколько j-й признак коррелирует с остатками.\n",
    "\n",
    "</div>"
   ]
  },
  {
   "cell_type": "code",
   "execution_count": 7,
   "metadata": {
    "id": "Vsi3d9OfDUKw"
   },
   "outputs": [
    {
     "name": "stdout",
     "output_type": "stream",
     "text": [
      "Итерация 0, MSE: 22.1455\n",
      "Итерация 100, MSE: 2.7841\n",
      "Итерация 200, MSE: 2.7841\n",
      "Итерация 300, MSE: 2.7841\n",
      "Итерация 400, MSE: 2.7841\n",
      "Итерация 500, MSE: 2.7841\n",
      "Итерация 600, MSE: 2.7841\n",
      "Итерация 700, MSE: 2.7841\n",
      "Итерация 800, MSE: 2.7841\n",
      "Итерация 900, MSE: 2.7841\n",
      "Оптимальные веса: [ 41.56217205 110.13144155  73.52860638  -0.55006384]\n"
     ]
    }
   ],
   "source": [
    "def coordinate_descent(X, y, iters):\n",
    "    \n",
    "    y = y.reshape(-1, 1)\n",
    "    w = np.zeros((X.shape[1], 1)) \n",
    "\n",
    "    for i in range(iters):\n",
    "        for j in range(X.shape[1]):\n",
    "            r = y - X @ w \n",
    "            r_minus_j = r + X[:, j:j+1] * w[j] \n",
    "            w[j] = (X[:, j].T @ r_minus_j) / (X[:, j].T @ X[:, j])\n",
    "            \n",
    "        cost = np.mean((X @ w - y) ** 2)\n",
    "\n",
    "        if i % 100 == 0:\n",
    "            print(f\"Итерация {i}, MSE: {cost:.4f}\")\n",
    "            \n",
    "    return w.flatten()\n",
    "\n",
    "result = coordinate_descent(X, y, 1000)\n",
    "print(\"Оптимальные веса:\", result)"
   ]
  },
  {
   "cell_type": "markdown",
   "metadata": {
    "id": "a3jG-7UADUKx"
   },
   "source": [
    "Сравните результаты с реализацией линейной регрессии из библиотеки sklearn:"
   ]
  },
  {
   "cell_type": "code",
   "execution_count": 8,
   "metadata": {
    "id": "SBl-1Yb5DUKy"
   },
   "outputs": [
    {
     "name": "stdout",
     "output_type": "stream",
     "text": [
      "[ 41.56217205 110.13144155  73.52860638  -0.55006384]\n"
     ]
    }
   ],
   "source": [
    "model = LinearRegression(fit_intercept=False)\n",
    "model.fit(X, y)\n",
    " \n",
    "print(model.coef_)"
   ]
  },
  {
   "cell_type": "markdown",
   "metadata": {
    "id": "hIl0AGLyDUKy"
   },
   "source": [
    "Если вы все сделали верно, они должны практически совпасть!"
   ]
  },
  {
   "cell_type": "markdown",
   "metadata": {},
   "source": [
    "<div style=\"border: 1px solid red; padding: 10px; border-radius: 5px;\">\n",
    "\n",
    "### Вывод:\n",
    "Ещё до 100-й итерации алгоритм координатного спуска пришёл к таким же значениям как и модель линейной регресси из библиотеки.\n",
    "</div>"
   ]
  },
  {
   "cell_type": "markdown",
   "metadata": {
    "id": "VCGwFnPdDUKz"
   },
   "source": [
    "## Стохастический градиентный спуск (6 баллов)"
   ]
  },
  {
   "cell_type": "markdown",
   "metadata": {
    "id": "5u7Q2YJla_Xk"
   },
   "source": [
    "**Отмасштабируйте столбцы исходной матрицы *X* (которую мы не нормализовали еще!). Для того, чтобы это сделать, надо вычесть из каждого значения среднее и разделить на стандартное отклонение** (0.5 баллов)"
   ]
  },
  {
   "cell_type": "code",
   "execution_count": 9,
   "metadata": {
    "id": "9cEpV_5La_Xo"
   },
   "outputs": [],
   "source": [
    "X = df[['TV', 'radio', 'newspaper']].values\n",
    "means = np.mean(X, axis=0)\n",
    "stds = np.std(X, axis=0)\n",
    "X_scaled = (X - means) / stds"
   ]
  },
  {
   "cell_type": "markdown",
   "metadata": {
    "id": "8WkNYILHDUK1"
   },
   "source": [
    "**Добавим единичный столбец**"
   ]
  },
  {
   "cell_type": "code",
   "execution_count": 10,
   "metadata": {
    "id": "EVl5tEGtDUK1"
   },
   "outputs": [],
   "source": [
    "X_scaled = np.hstack([np.ones(X_scaled.shape[0]).reshape(-1, 1), X_scaled])"
   ]
  },
  {
   "cell_type": "markdown",
   "metadata": {
    "id": "m53tZA5fDUK1"
   },
   "source": [
    "**Создайте функцию mse_error для вычисления среднеквадратичной ошибки, принимающую два аргумента: реальные значения и предсказывающие, и возвращающую значение mse** (0.5 балла)"
   ]
  },
  {
   "cell_type": "code",
   "execution_count": 11,
   "metadata": {
    "id": "0cvtC08Aa_YK"
   },
   "outputs": [],
   "source": [
    "def mse_error(y, y_pred):\n",
    "    return np.mean((y-y_pred)**2)"
   ]
  },
  {
   "cell_type": "markdown",
   "metadata": {
    "id": "lpOLhdvBDUK2"
   },
   "source": [
    "**Сделайте наивный прогноз: предскажите продажи средним значением. После этого рассчитайте среднеквадратичную ошибку для этого прогноза** (0.5 балла)"
   ]
  },
  {
   "cell_type": "code",
   "execution_count": 12,
   "metadata": {
    "id": "kLV_XljVa_YZ"
   },
   "outputs": [
    {
     "name": "stdout",
     "output_type": "stream",
     "text": [
      "Наивный прогноз: 14.0225\n",
      "Среднеквадратичная ошибка (MSE) для наивного прогноза: 27.085743750000002\n"
     ]
    }
   ],
   "source": [
    "mean_sales = np.mean(y)\n",
    "y_pred = [mean_sales] * len(y)\n",
    "mse = mse_error(y, y_pred)\n",
    "print(\"Наивный прогноз:\", y_pred[0])\n",
    "print(\"Среднеквадратичная ошибка (MSE) для наивного прогноза:\", mse)"
   ]
  },
  {
   "cell_type": "markdown",
   "metadata": {
    "id": "BbybL2ola_ZM"
   },
   "source": [
    "**Создайте функцию *lin_pred*, которая может по матрице предикторов *X* и вектору весов линейной модели *w* получить вектор прогнозов** (0.5 балла)"
   ]
  },
  {
   "cell_type": "code",
   "execution_count": 38,
   "metadata": {
    "id": "1Cyz-Luaa_ZO"
   },
   "outputs": [
    {
     "name": "stdout",
     "output_type": "stream",
     "text": [
      "Итерация 0, MSE: 2.8071\n",
      "Итерация 100, MSE: 2.7841\n",
      "Среднеквадратичная ошибка (MSE) для линейного прогноза: 2.784126314510936\n",
      "\n",
      "Прогнозы: [20.52397441 12.33785482 12.30767078 17.59782951 13.18867186 12.47834763\n",
      " 11.72975995 12.12295317  3.72734086 12.55084872  7.0322992  17.28512918\n",
      " 10.57712073  8.82630048 18.43436638 20.81929952 12.82365674 23.22495716\n",
      "  9.95168206 14.16607293 18.10076728 14.7405382   6.4891503  16.5459329\n",
      "  8.14651887 15.6100386  14.98951429 17.05167344 19.41053803  9.14402389\n",
      " 21.6339338  11.3460929   7.63888314 18.86426829  7.57483051 17.00682618\n",
      " 23.40590052 15.62347779  9.90868103 20.44761039 16.37766467 17.2959832\n",
      " 21.59580326 13.96385684  8.88787996 15.16152314  8.87338673 21.7226299\n",
      " 16.26362018  8.1681656  12.63121132  9.33981296 20.66297563 19.94469957\n",
      " 20.37443008 21.2926106   8.52771254 12.77458802 21.89805198 18.13348698\n",
      "  5.74215558 22.89067208 16.78426073 13.21069202 16.97773556  7.84904532\n",
      "  9.01603163 12.0370073  18.97657924 21.10891244 17.77949782 10.62693815\n",
      " 10.36684881  9.90298206 17.32931197 11.85832174  4.47758904 13.81190223\n",
      "  8.81331353  9.67530328 11.44592364 14.64794093 10.17840799 14.42184212\n",
      " 20.78136464 15.18140789 11.59870739 15.59378475 11.71127101 16.92225511\n",
      "  9.99922965  4.49631598 19.15639616 21.22757378 10.48212385 16.31492112\n",
      " 12.63571716 15.33707782 24.11860723 16.94035021 13.87595844 23.24248685\n",
      " 17.64409385 14.76221142 20.30110878 17.93641467  6.12602215  7.10850249\n",
      "  3.58725841 19.69293106 14.7598741  21.14027498 13.88060985 16.40377623\n",
      " 15.30509593 12.91968895 11.97874744  6.5707774  15.56609348  6.82006767\n",
      " 14.41010605  7.83807642 13.6264571  15.0827909  19.45441306  9.12734958\n",
      " 10.57717411  6.599669   22.25549161  7.88410649 10.4276871  15.57779819\n",
      "  8.44915012 19.26692307 11.8368039  14.00141385 11.45348627 20.85125198\n",
      "  9.76842795 19.67547632  9.48964097 18.39902932 19.24986927  8.76480262\n",
      " 10.09133403  9.70853872 15.29422368 23.26086103 12.26335941  9.8272711\n",
      " 18.36720534 10.0095377  16.3600003  18.22390132 15.50161696  5.3075589\n",
      " 15.38485192 10.0143112  10.38419866 12.39914823 14.21383298 13.55914568\n",
      " 14.94678206 17.35163608 11.0682946  14.22372138 10.82439531 13.36324677\n",
      " 17.1861428  17.9415563   7.39497997 14.35827373  7.60769238 11.97093887\n",
      " 13.74435742 24.78687031 19.9793727  12.1620464  16.01099722 12.38455495\n",
      " 10.5871997  13.92809918  6.55467    24.13310013 18.53852096 20.80301059\n",
      "  9.69137313 17.07644223 18.64430648  6.05162411 12.4891591   8.42401933\n",
      "  4.46622956 18.48695797 16.49530044  5.37034248  8.16531236 12.78592082\n",
      " 23.76732149 15.17319554]\n"
     ]
    }
   ],
   "source": [
    "def lin_pred(X, w):\n",
    "    return X @ w\n",
    "\n",
    "w = coordinate_descent(X_scaled, y, 101)\n",
    "predictions = (lin_pred(X_scaled, w))\n",
    "mse = mse_error(y, predictions)\n",
    "\n",
    "print(\"Среднеквадратичная ошибка (MSE) для линейного прогноза:\", mse)\n",
    "print(\"\\nПрогнозы:\", predictions)"
   ]
  },
  {
   "cell_type": "markdown",
   "metadata": {
    "id": "BU4adBrya_Zm"
   },
   "source": [
    "**Создайте функцию *stoch_grad_step* для реализации шага стохастического градиентного спуска. (1.5 балла) \n",
    "Функция должна принимать на вход следующие аргументы:**\n",
    "* матрицу *X*\n",
    "* вектора *y* и *w*\n",
    "* число *train_ind* - индекс объекта обучающей выборки (строки матрицы *X*), по которому считается изменение весов\n",
    "* число *$\\eta$* (eta) - шаг градиентного спуска\n",
    "\n",
    "Результатом будет вектор обновленных весов"
   ]
  },
  {
   "cell_type": "markdown",
   "metadata": {
    "id": "dyLY-P02DUK5"
   },
   "source": [
    "Шаг для стохастического градиентного спуска выглядит следующим образом:"
   ]
  },
  {
   "cell_type": "markdown",
   "metadata": {
    "id": "ORsAyIKNDUK5"
   },
   "source": [
    "$$\\Large w_j \\leftarrow w_j - \\frac{2\\eta}{\\ell} \\sum_{i=1}^\\ell{{x_{ij}((w_0 + w_1x_{i1} + w_2x_{i2} +  w_3x_{i3}) - y_i)}}$$"
   ]
  },
  {
   "cell_type": "markdown",
   "metadata": {
    "id": "CQl2FrpuDUK6"
   },
   "source": [
    "Для того, чтобы написать функцию, нужно сделать следующее:\n",
    "    \n",
    "*  посчитать направление изменения: умножить объект обучающей выборки на 2 и на разницу между предсказанным значением и реальным, а потом поделить на количество элементов в выборке.\n",
    "* вернуть разницу между вектором весов и направлением изменения, умноженным на шаг градиентного спуска"
   ]
  },
  {
   "cell_type": "code",
   "execution_count": 40,
   "metadata": {
    "id": "YUhVQGsja_Zn"
   },
   "outputs": [
    {
     "data": {
      "text/plain": [
       "array([14.01949233,  3.92381375,  2.78746563, -0.02790294])"
      ]
     },
     "execution_count": 40,
     "metadata": {},
     "output_type": "execute_result"
    }
   ],
   "source": [
    "def stoch_grad_step(X, y, w, train_ind, eta):\n",
    "    x_i = X[train_ind]\n",
    "    y_i = y[train_ind]\n",
    "\n",
    "    prediction = x_i @ w\n",
    "    error = prediction - y_i\n",
    "    gradient = (error * x_i) / len(X) \n",
    "    w_new = w - 2 * eta * gradient\n",
    "\n",
    "    return w_new \n",
    "\n",
    "stoch_grad_step(X_scaled, y, w, 2, 0.1)"
   ]
  },
  {
   "cell_type": "markdown",
   "metadata": {
    "id": "pXwIFd0Ma_Zx"
   },
   "source": [
    "**Создайте функцию *stochastic_gradient_descent*, для реализации стохастического градиентного спуска (2.5 балла)**\n",
    "\n",
    "**Функция принимает на вход следующие аргументы:**\n",
    "- Матрицу признаков X\n",
    "- Целевую переменнную\n",
    "- Изначальную точку (веса модели)\n",
    "- Параметр, определяющий темп обучения\n",
    "- Максимальное число итераций\n",
    "- Евклидово расстояние между векторами весов на соседних итерациях градиентного спуска,при котором алгоритм прекращает работу \n",
    "\n",
    "**На каждой итерации в вектор (список) должно записываться текущее значение среднеквадратичной ошибки. Функция должна возвращать вектор весов $w$, а также вектор (список) ошибок.**"
   ]
  },
  {
   "cell_type": "markdown",
   "metadata": {
    "id": "ZVeoNF1JDUK7"
   },
   "source": [
    "Алгоритм следующий:\n",
    "    \n",
    "* Инициализируйте расстояние между векторами весов на соседних итерациях большим числом (можно бесконечностью)\n",
    "* Создайте пустой список для фиксации ошибок\n",
    "* Создайте счетчик итераций\n",
    "* Реализуйте оновной цикл обучения пока расстояние между векторами весов больше того, при котором надо прекратить работу (когда расстояния станут слишком маленькими - значит, мы застряли в одном месте) и количество итераций меньше максимально разрешенного: сгенерируйте случайный индекс, запишите текущую ошибку в вектор ошибок, запишите в переменную текущий шаг стохастического спуска с использованием функции, написанной ранее. Далее рассчитайте текущее расстояние между векторами весов и прибавьте к счетчику итераций 1.\n",
    "* Верните вектор весов и вектор ошибок"
   ]
  },
  {
   "cell_type": "code",
   "execution_count": 41,
   "metadata": {
    "id": "CD_xcFNfa_Zy"
   },
   "outputs": [],
   "source": [
    "def stochastic_gradient_descent(X, y, w, eta, max_iters, d_min):\n",
    "    d = float('inf')\n",
    "    errors = []\n",
    "    iters_count = 0\n",
    "    \n",
    "    while d > d_min and iters_count < max_iters:\n",
    "        random_ind = np.random.randint(X.shape[0])\n",
    "        w_current = w.copy()\n",
    "        y_pred = lin_pred(X, w_current)\n",
    "        errors.append(mse_error(y, y_pred))\n",
    "        w = stoch_grad_step(X, y, w, random_ind, eta)\n",
    "        d = np.linalg.norm(w - w_current)\n",
    "        iters_count += 1\n",
    "        \n",
    "    return errors, w"
   ]
  },
  {
   "cell_type": "markdown",
   "metadata": {
    "id": "0OqHO1Rta_Z7"
   },
   "source": [
    " **Запустите $10^5$ итераций стохастического градиентного спуска. Укажите вектор начальных весов, состоящий из нулей. Можете поэкспериментировать с параметром, отвечающим за темп обучения.**"
   ]
  },
  {
   "cell_type": "code",
   "execution_count": null,
   "metadata": {},
   "outputs": [],
   "source": [
    "max_iters = 10**5\n",
    "w = np.zeros(X_scaled.shape[1])\n",
    "eta = 0.15\n",
    "d_min = 1e-6\n",
    "\n",
    "errors, weights = stochastic_gradient_descent(\n",
    "    X_scaled, \n",
    "    y, \n",
    "    w, \n",
    "    eta, \n",
    "    max_iters, \n",
    "    d_min\n",
    ")"
   ]
  },
  {
   "cell_type": "markdown",
   "metadata": {
    "id": "N6fHHT6vDUK8"
   },
   "source": [
    "**Постройте график зависимости ошибки от номера итерации**"
   ]
  },
  {
   "cell_type": "code",
   "execution_count": 94,
   "metadata": {
    "id": "zsSfHDzLDUK9"
   },
   "outputs": [
    {
     "data": {
      "image/png": "[encoded data removed]",
      "text/plain": [
       "<Figure size 1000x600 with 1 Axes>"
      ]
     },
     "metadata": {},
     "output_type": "display_data"
    }
   ],
   "source": [
    "plt.figure(figsize=(10, 6))\n",
    "plt.plot(errors, label='Ошибка', color='blue')\n",
    "plt.title('Зависимость ошибки от номера итерации')\n",
    "plt.xlabel('Номер итерации')\n",
    "plt.ylabel('Ошибка (MSE)')\n",
    "plt.grid()\n",
    "plt.legend()\n",
    "plt.show()"
   ]
  },
  {
   "cell_type": "markdown",
   "metadata": {
    "id": "O-MVOcJ6a_aY"
   },
   "source": [
    "**Выведите вектор весов, к которому сошелся метод.**"
   ]
  },
  {
   "cell_type": "code",
   "execution_count": 95,
   "metadata": {
    "id": "MPjVkXe4DUK9"
   },
   "outputs": [
    {
     "name": "stdout",
     "output_type": "stream",
     "text": [
      "Финальные веса: 13.975072, 3.931287, 2.795896, 0.009317\n"
     ]
    }
   ],
   "source": [
    "formatted_weights = [f\"{weight:.6f}\" for weight in weights.flatten()]\n",
    "print(\"Финальные веса:\", \", \".join(formatted_weights))"
   ]
  },
  {
   "cell_type": "markdown",
   "metadata": {
    "id": "qabzMc3Qa_a5"
   },
   "source": [
    "**Выведите среднеквадратичную ошибку на последней итерации.**"
   ]
  },
  {
   "cell_type": "code",
   "execution_count": 91,
   "metadata": {
    "id": "7tPWleMIa_a7"
   },
   "outputs": [
    {
     "name": "stdout",
     "output_type": "stream",
     "text": [
      "MSE на последней итерации: 2.7876849101826546\n"
     ]
    }
   ],
   "source": [
    "print(\"MSE на последней итерации:\", errors[-1])"
   ]
  },
  {
   "cell_type": "markdown",
   "metadata": {},
   "source": [
    "<div style=\"border: 1px solid red; padding: 10px; border-radius: 5px;\">\n",
    "\n",
    "## Финальный вывод:\n",
    "\n",
    "При обучению модели с использованием координатного спуска и стохастического градиентного спуска на выборке из 200 строк были получены следующие результаты:\n",
    "\n",
    "- **Координатный спуск**:\n",
    "  - Веса: `[41.56217205, 110.13144155, 73.52860638, -0.55006384]`\n",
    "  - Количество итераций: менее 100\n",
    "  - Ошибка (MSE): `2.7841`\n",
    "  \n",
    "- **Стохастический градиентный спуск**:\n",
    "  - Веса: `[14.020895, 3.908592, 2.770160, -0.010786]`\n",
    "  - Количество итераций: примерно 2000\n",
    "  - Ошибка (MSE): `2.7847`\n",
    "\n",
    "### Основные наблюдения:\n",
    "\n",
    "1. **Количество итераций**<br>\n",
    "Координатный спуск потребовал значительно меньше итераций для достижения минимальной ошибки по сравнению со стохастическим градиентным спуском.\n",
    "\n",
    "2. **Веса**: <br>\n",
    "Значения весов у двух методов сильно различаются, что связано с особенностями масштабирования и нормализации данных.\n",
    "\n",
    "3. **Ошибка**:<br> \n",
    "Ошибки двух методов оказались почти идентичными, хотя стохастический градиентный спуск потребовал больше итераций для достижения этого результата.\n",
    "\n",
    "### Причины различий:\n",
    "\n",
    "- **Размер выборки**:<br> \n",
    "Поскольку выборка состоит всего из 200 строк, координатный спуск смог быстрее найти оптимальные веса, так как он обновляет веса по одному признаку за раз, и на небольших данных это может быть более эффективно.\n",
    "  \n",
    "- **Стохастический градиентный спуск**<br> \n",
    "обычно проявляет свои преимущества на больших наборах данных или в условиях онлайн-обучения, когда каждое обновление может быть выполнено на небольшом подмножестве данных, что делает его более масштабируемым.\n",
    "\n",
    "</div>"
   ]
  }
 ],
 "metadata": {
  "colab": {
   "collapsed_sections": [],
   "name": "Практика_Оптимизация.ipynb",
   "provenance": [],
   "toc_visible": true
  },
  "kernelspec": {
   "display_name": "Python (mipt2)",
   "language": "python",
   "name": "mipt2"
  },
  "language_info": {
   "codemirror_mode": {
    "name": "ipython",
    "version": 3
   },
   "file_extension": ".py",
   "mimetype": "text/x-python",
   "name": "python",
   "nbconvert_exporter": "python",
   "pygments_lexer": "ipython3",
   "version": "3.11.5"
  }
 },
 "nbformat": 4,
 "nbformat_minor": 0
}
