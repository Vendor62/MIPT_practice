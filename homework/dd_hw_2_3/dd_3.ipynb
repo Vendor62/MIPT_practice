{
 "cells": [
  {
   "cell_type": "code",
   "execution_count": 20,
   "metadata": {},
   "outputs": [],
   "source": [
    "import pandas as pd\n",
    "from sklearn.datasets import load_files\n",
    "from sklearn.feature_extraction.text import CountVectorizer\n",
    "from sklearn.preprocessing import StandardScaler, PolynomialFeatures\n",
    "from sklearn.linear_model import LogisticRegression\n",
    "from sklearn.pipeline import Pipeline\n",
    "from sklearn.model_selection import train_test_split, GridSearchCV\n",
    "from sklearn.metrics import accuracy_score"
   ]
  },
  {
   "cell_type": "code",
   "execution_count": 2,
   "metadata": {},
   "outputs": [],
   "source": [
    "df = pd.read_csv(\"D:\\ds\\student.csv\")"
   ]
  },
  {
   "cell_type": "markdown",
   "metadata": {},
   "source": [
    "Сделайте разбиение на обучение и тест с соотношением 80/20 и random_state=10.\n",
    "\n",
    "Целевой признак grade: 0 - оценка ниже среднего, 1 - оценка выше среднего.\n",
    "\n",
    "Обучите логистическую регрессию из sklearn на базовых параметрах для решения поставленной задачи и укажите вес, который получился после обучения модели, при признаке studytime, округлив его до второго знака после точки."
   ]
  },
  {
   "cell_type": "code",
   "execution_count": 14,
   "metadata": {},
   "outputs": [
    {
     "name": "stdout",
     "output_type": "stream",
     "text": [
      "Вес для признака 'studytime': 0.38\n"
     ]
    },
    {
     "name": "stderr",
     "output_type": "stream",
     "text": [
      "c:\\Users\\Admin\\AppData\\Local\\Programs\\Python\\Python311\\Lib\\site-packages\\sklearn\\linear_model\\_logistic.py:465: ConvergenceWarning: lbfgs failed to converge (status=1):\n",
      "STOP: TOTAL NO. OF ITERATIONS REACHED LIMIT.\n",
      "\n",
      "Increase the number of iterations (max_iter) or scale the data as shown in:\n",
      "    https://scikit-learn.org/stable/modules/preprocessing.html\n",
      "Please also refer to the documentation for alternative solver options:\n",
      "    https://scikit-learn.org/stable/modules/linear_model.html#logistic-regression\n",
      "  n_iter_i = _check_optimize_result(\n"
     ]
    }
   ],
   "source": [
    "X = df.drop(columns=['grade']) \n",
    "y = df['grade'] \n",
    "\n",
    "X_train, X_test, y_train, y_test = train_test_split(X, y, test_size=0.2, random_state=10)\n",
    "\n",
    "model = LogisticRegression(max_iter=100)\n",
    "model.fit(X_train, y_train)\n",
    "\n",
    "studytime_index = df.columns.get_loc('studytime')  \n",
    "studytime_weight = model.coef_[0][studytime_index]  \n",
    "\n",
    "print(f\"Вес для признака 'studytime': {round(studytime_weight, 2)}\")"
   ]
  },
  {
   "cell_type": "markdown",
   "metadata": {},
   "source": [
    "Вероятней всего (если у вас не отключены предупреждения) Python выдал `ConvergenceWarning: lbfgs failed to converge (status=1): STOP: TOTAL NO. of ITERATIONS REACHED LIMIT.`, такое встречается, если в данных есть признаки разных масштабов. Давайте исправим это с помощью масштабирования данных через стандартизацию.\n",
    "- Обучите модель StandardScaler на тренировочной выборке.\n",
    "- Преобразуйте тренировочные и тестовые данных с помощью стандартизации\n",
    "- Укажите, какие диапазоны получились у признака age на тестовой выборке - значение min и max. "
   ]
  },
  {
   "cell_type": "code",
   "execution_count": null,
   "metadata": {},
   "outputs": [
    {
     "name": "stdout",
     "output_type": "stream",
     "text": [
      "Минимальное значение для признака 'age' на тестовой выборке: -1.4677077782486785\n",
      "Максимальное значение для признака 'age' на тестовой выборке: 4.404739753004016\n"
     ]
    }
   ],
   "source": [
    "scaler = StandardScaler()\n",
    "\n",
    "scaler.fit(X_train)\n",
    "\n",
    "X_train_scaled = scaler.transform(X_train)\n",
    "X_test_scaled = scaler.transform(X_test)\n",
    "\n",
    "age_min = X_test_scaled[:, X.columns.get_loc('age')].min()\n",
    "age_max = X_test_scaled[:, X.columns.get_loc('age')].max()\n",
    "\n",
    "print(f\"Минимальное значение для признака 'age' на тестовой выборке: {age_min}\")\n",
    "print(f\"Максимальное значение для признака 'age' на тестовой выборке: {age_max}\")"
   ]
  },
  {
   "cell_type": "markdown",
   "metadata": {},
   "source": [
    "Продолжайте работать с масштабированными данными с предыдущего задания.\n",
    "\n",
    "Обучите модель логистической регрессии с базовыми параметрами на стандартизованных данных и посчитайте метрику accuracy на тренировочной и тестовой выборках и укажите их, округлив до второго знака после точки."
   ]
  },
  {
   "cell_type": "code",
   "execution_count": null,
   "metadata": {},
   "outputs": [
    {
     "name": "stdout",
     "output_type": "stream",
     "text": [
      "Точность на тренировочной выборке: 0.74\n",
      "Точность на тестовой выборке: 0.81\n"
     ]
    },
    {
     "name": "stderr",
     "output_type": "stream",
     "text": [
      "c:\\Users\\Admin\\AppData\\Local\\Programs\\Python\\Python311\\Lib\\site-packages\\sklearn\\utils\\validation.py:2739: UserWarning: X does not have valid feature names, but LogisticRegression was fitted with feature names\n",
      "  warnings.warn(\n",
      "c:\\Users\\Admin\\AppData\\Local\\Programs\\Python\\Python311\\Lib\\site-packages\\sklearn\\utils\\validation.py:2739: UserWarning: X does not have valid feature names, but LogisticRegression was fitted with feature names\n",
      "  warnings.warn(\n"
     ]
    }
   ],
   "source": [
    "y_train_pred = model.predict(X_train_scaled)\n",
    "y_test_pred = model.predict(X_test_scaled)\n",
    "\n",
    "train_accuracy = accuracy_score(y_train, y_train_pred)\n",
    "test_accuracy = accuracy_score(y_test, y_test_pred)\n",
    "\n",
    "print(f\"Точность на тренировочной выборке: {round(train_accuracy, 2)}\")\n",
    "print(f\"Точность на тестовой выборке: {round(test_accuracy, 2)}\")"
   ]
  },
  {
   "cell_type": "markdown",
   "metadata": {},
   "source": [
    "Продолжайте работать с данными с предыдущего задания.\n",
    "\n",
    "Возьмите НЕ масштабированные данные, т.к. сейчас будем их усложнять для более качественной модели.\n",
    "\n",
    "Для удобства можете пользоваться pipeline из sklearn, в котором будут:\n",
    "- Модель полиномизации признаков до 4 степени PolynomialFeatures\n",
    "- Модель масштабирования данных StandardScaler\n",
    "- Логистическая регрессия БЕЗ регуляризации\n",
    "\n",
    "По умолчанию в логистической регрессии в sklearn есть L2 регуляризация, чтобы её отключить, нужно поменять параметр penalty.\n",
    "\n",
    "Обучите пайплайн на тренировочной выборке и посчитайте метрику accuracy на тренировочной и тестовой выборках и укажите их, округлив до второго знака после точки."
   ]
  },
  {
   "cell_type": "code",
   "execution_count": null,
   "metadata": {},
   "outputs": [
    {
     "name": "stdout",
     "output_type": "stream",
     "text": [
      "Точность на тренировочной выборке: 0.95\n",
      "Точность на тестовой выборке: 0.68\n"
     ]
    },
    {
     "name": "stderr",
     "output_type": "stream",
     "text": [
      "c:\\Users\\Admin\\AppData\\Local\\Programs\\Python\\Python311\\Lib\\site-packages\\sklearn\\linear_model\\_logistic.py:465: ConvergenceWarning: lbfgs failed to converge (status=1):\n",
      "STOP: TOTAL NO. OF ITERATIONS REACHED LIMIT.\n",
      "\n",
      "Increase the number of iterations (max_iter) or scale the data as shown in:\n",
      "    https://scikit-learn.org/stable/modules/preprocessing.html\n",
      "Please also refer to the documentation for alternative solver options:\n",
      "    https://scikit-learn.org/stable/modules/linear_model.html#logistic-regression\n",
      "  n_iter_i = _check_optimize_result(\n"
     ]
    }
   ],
   "source": [
    "pipeline = Pipeline([\n",
    "    ('poly', PolynomialFeatures(degree=4)),  \n",
    "    ('scaler', StandardScaler()),            \n",
    "    ('logreg', LogisticRegression(penalty=None))  \n",
    "])\n",
    "\n",
    "pipeline.fit(X_train, y_train)\n",
    "y_train_pred = pipeline.predict(X_train)\n",
    "y_test_pred = pipeline.predict(X_test)\n",
    "\n",
    "train_accuracy = accuracy_score(y_train, y_train_pred)\n",
    "test_accuracy = accuracy_score(y_test, y_test_pred)\n",
    "\n",
    "print(f\"Точность на тренировочной выборке: {round(train_accuracy, 2)}\")\n",
    "print(f\"Точность на тестовой выборке: {round(test_accuracy, 2)}\")"
   ]
  },
  {
   "cell_type": "markdown",
   "metadata": {},
   "source": [
    "Продолжайте работать с данными с предыдущего задания.\n",
    "\n",
    "Снова вероятней всего (если у вас не отключены предупреждения) Python выдал `ConvergenceWarning: lbfgs failed to converge (status=1): STOP: TOTAL NO. of ITERATIONS REACHED LIMIT.`, хотя масштабирование данных сделано, так же эту ошибку можно избежать, если увеличить количество итераций в логистической регрессии, увеличьте параметр max_iter до 600.\n",
    "\n",
    "Так же метрика на тесте стала меньше, потому что модель переобучается, нужно и это исправить с помощью регуляризации.\n",
    "\n",
    "Для удобства можете пользоваться pipeline из sklearn, в котором будут:\n",
    "- Модель полиномизации признаков до 4 степени PolynomialFeatures\n",
    "- Модель масштабирования данных StandardScaler\n",
    "- Логистическая регрессия с L2 регуляризацией\n",
    "\n",
    "Сделайте перебор параметра C в логистической регрессии, который из себя представляет 1/коэффициент регуляризации. Значения C перебирайте из следующего списка: `[0.0001, 0.001, 0.01, 0.1, 1]`.\n",
    "\n",
    "Укажите, самую лучшую метрику на тесте, округлив её до второго знака после точки."
   ]
  },
  {
   "cell_type": "code",
   "execution_count": null,
   "metadata": {},
   "outputs": [
    {
     "name": "stdout",
     "output_type": "stream",
     "text": [
      "Лучший результат метрики accuracy на тестовой выборке: 0.81\n"
     ]
    }
   ],
   "source": [
    "pipeline = Pipeline([\n",
    "    ('poly', PolynomialFeatures(degree=4)), \n",
    "    ('scaler', StandardScaler()),         \n",
    "    ('logreg', LogisticRegression(penalty='l2', max_iter=600)) \n",
    "])\n",
    "\n",
    "param_grid = {\n",
    "    'logreg__C': [0.0001, 0.001, 0.01, 0.1, 1]  \n",
    "}\n",
    "\n",
    "grid_search = GridSearchCV(pipeline, param_grid, cv=5, scoring='accuracy', n_jobs=-1)\n",
    "grid_search.fit(X_train, y_train)\n",
    "best_model = grid_search.best_estimator_\n",
    "y_test_pred = best_model.predict(X_test)\n",
    "test_accuracy = accuracy_score(y_test, y_test_pred)\n",
    "\n",
    "print(f\"Лучший результат метрики accuracy на тестовой выборке: {round(test_accuracy, 2)}\")"
   ]
  },
  {
   "cell_type": "markdown",
   "metadata": {},
   "source": [
    "Имеется датасет для чаевых для таксиста.\n",
    "\n",
    "Сделайте разбиение на обучение и тест с соотношением 80/20 и random_state=10.\n",
    "\n",
    "Целевой признак tip_class.\n",
    "\n",
    "Обучите логистическую регрессию из sklearn с параметром max_iter=400 для решения поставленной задачи.\n",
    "\n",
    "Изучите масштаб в данных и если это требуется примените StandardScaler.\n",
    "\n",
    "Укажите метрики accuracy на тренировочной и тестовой выборках, округлив их до второго знака после точки. "
   ]
  },
  {
   "cell_type": "code",
   "execution_count": 24,
   "metadata": {},
   "outputs": [],
   "source": [
    "df = pd.read_csv(\"D:\\\\ds\\\\taxi.csv\")"
   ]
  },
  {
   "cell_type": "code",
   "execution_count": 27,
   "metadata": {},
   "outputs": [],
   "source": [
    "X = df.drop(columns=['tip_class']) \n",
    "y = df['tip_class'] \n",
    "X_train, X_test, y_train, y_test = train_test_split(X, y, test_size=0.2, random_state=10)"
   ]
  },
  {
   "cell_type": "code",
   "execution_count": 28,
   "metadata": {},
   "outputs": [
    {
     "name": "stdout",
     "output_type": "stream",
     "text": [
      "Accuracy на тренировочной выборке: 0.96\n",
      "Accuracy на тестовой выборке: 0.96\n"
     ]
    }
   ],
   "source": [
    "scaler = StandardScaler()\n",
    "X_train_scaled = scaler.fit_transform(X_train)\n",
    "X_test_scaled = scaler.transform(X_test)\n",
    "\n",
    "model = LogisticRegression(max_iter=400)\n",
    "model.fit(X_train_scaled, y_train)\n",
    "\n",
    "y_train_pred = model.predict(X_train_scaled)\n",
    "y_test_pred = model.predict(X_test_scaled)\n",
    "\n",
    "train_accuracy = accuracy_score(y_train, y_train_pred)\n",
    "test_accuracy = accuracy_score(y_test, y_test_pred)\n",
    "\n",
    "print(f\"Accuracy на тренировочной выборке: {train_accuracy:.2f}\")\n",
    "print(f\"Accuracy на тестовой выборке: {test_accuracy:.2f}\")"
   ]
  },
  {
   "cell_type": "markdown",
   "metadata": {},
   "source": [
    "Посчитайте, сколько получилось ошибочных предсказаний в процентном соотношении по каждому классу на тестовой выборке и укажите в ответе, округлив проценты до второго знака после точки."
   ]
  },
  {
   "cell_type": "code",
   "execution_count": null,
   "metadata": {},
   "outputs": [
    {
     "name": "stdout",
     "output_type": "stream",
     "text": [
      "low: 6.92% ошибочных предсказаний\n",
      "under med: 0.03% ошибочных предсказаний\n",
      "over med: 6.85% ошибочных предсказаний\n",
      "high: 2.43% ошибочных предсказаний\n"
     ]
    }
   ],
   "source": [
    "y_test_pred = model.predict(X_test_scaled)\n",
    "\n",
    "wrong_predictions = y_test_pred != y_test\n",
    "classes = y_test.unique()\n",
    "error_percentages = {}\n",
    "\n",
    "for class_label in classes:\n",
    "    total = sum(y_test == class_label)\n",
    "    wrong = sum((y_test == class_label) & wrong_predictions)\n",
    "    error_percentage = (wrong / total) * 100\n",
    "    error_percentages[class_label] = round(error_percentage, 2)\n",
    "\n",
    "for class_label, error_percentage in error_percentages.items():\n",
    "    print(f\"{class_label}: {error_percentage}% ошибочных предсказаний\")"
   ]
  }
 ],
 "metadata": {
  "kernelspec": {
   "display_name": "Python 3",
   "language": "python",
   "name": "python3"
  },
  "language_info": {
   "codemirror_mode": {
    "name": "ipython",
    "version": 3
   },
   "file_extension": ".py",
   "mimetype": "text/x-python",
   "name": "python",
   "nbconvert_exporter": "python",
   "pygments_lexer": "ipython3",
   "version": "3.11.0"
  }
 },
 "nbformat": 4,
 "nbformat_minor": 2
}
