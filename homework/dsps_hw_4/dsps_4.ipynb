{
  "cells": [
    {
      "cell_type": "markdown",
      "metadata": {
        "id": "LbOZ0b-MLYMG"
      },
      "source": [
        "# Выборка и агрегация данных в MongoDB\n",
        "\n",
        "### Цель домашней работы\n",
        "\n",
        "Закрепить на практике основные приемы работы с СУБД MongoDB, включая выборку, сортировку, объединение, агрегацию данных и передачу результатов выборки в программу на Python в целях аналитики и дальнейшей обработки."
      ]
    },
    {
      "cell_type": "markdown",
      "metadata": {
        "id": "VGMYMmFvEAQY"
      },
      "source": [
        "### Формулировка задания\n",
        "\n",
        "В этом задании вам предстоит выполнить несколько запросов к базе данных для получения выборок по условиям, а также воспользоваться фреймворком агрегации MongoDB для построения конвейера обработки данных.\n",
        "\n",
        "Максимальное количество баллов за выполнение домашней работы: 10."
      ]
    },
    {
      "cell_type": "markdown",
      "metadata": {
        "id": "3S2xr8EESZ8A"
      },
      "source": [
        "## Что нужно использовать в работе над заданием\n",
        "\n",
        "I. MongoDB:\n",
        "\n",
        "1. Зарегистрируйтесь в сервисе MongoDB Atlas: https://www.mongodb.com/atlas/database.\n",
        "1. Создайте кластер уровня M0 (это бесплатно).\n",
        "1. Добавьте в кластер тестовую базу данных `sample_mflix`, используя опцию Load Sample Dataset.\n",
        "\n",
        "В качестве альтернативы вы можете установить MongoDB на свой локальный компьютер и импортировать необходимые датасеты в свою СУБД, загрузив их по ссылке: https://github.com/neelabalan/mongodb-sample-dataset/tree/main/sample_mflix. Для этого подключитесь к своему серверу через Compass, создайте новую БД, создайте для каждого датасета коллекцию и щелкните «Add data» → «Import JSON or CSV file».\n",
        "\n",
        "II. MongoDB Compass — в качестве вспомогательного инструмента для конструирования запросов и агрегаций.\n",
        "\n",
        "III. Python и библиотека pymongo. Работа ведется в Jupyter Notebook или Google Colaboratory. Рекомендуется использовать версию Python 3.12."
      ]
    },
    {
      "cell_type": "markdown",
      "metadata": {
        "id": "xyG0RIatRiaQ"
      },
      "source": [
        "## Ожидаемые результаты\n",
        "\n",
        "Результаты работы необходимо оформить в виде ноутбука Jupyter. Можно загрузить файл в LMS либо поделиться ссылкой на Google Colaboratory."
      ]
    },
    {
      "cell_type": "markdown",
      "metadata": {
        "id": "O9MAw9odS5LD"
      },
      "source": [
        "## Место где нужно выполнить задание\n",
        "\n"
      ]
    },
    {
      "cell_type": "code",
      "execution_count": null,
      "metadata": {
        "id": "ktBuEf5lTBnx"
      },
      "outputs": [],
      "source": [
        "#Начать выполнение задания тут"
      ]
    },
    {
      "cell_type": "code",
      "execution_count": null,
      "metadata": {
        "colab": {
          "base_uri": "https://localhost:8080/"
        },
        "id": "hUzn3aDI2stL",
        "outputId": "ec83cccf-e339-4f3c-aefc-29d13c2d612c"
      },
      "outputs": [
        {
          "name": "stdout",
          "output_type": "stream",
          "text": [
            "['sample_mflix', 'admin', 'local']\n"
          ]
        }
      ],
      "source": [
        "import pymongo\n",
        "\n",
        "client = pymongo.MongoClient(\"mongodb+srv://vendor062:**@cluster0.wqvnb.mongodb.net/?retryWrites=true&w=majority&appName=Cluster0\")\n",
        "print(client.list_database_names())  # Вывести список БД для проверки подключения"
      ]
    },
    {
      "cell_type": "markdown",
      "metadata": {
        "id": "3hkkb3IAiJyx"
      },
      "source": [
        "### Упражнение 1. Запросы на выборку"
      ]
    },
    {
      "cell_type": "markdown",
      "metadata": {
        "id": "2t6Z-LgtiSwL"
      },
      "source": [
        "Цель этого упражнения — закрепить навык выполнения запросов на выборку. Все запросы выполняются на базе `sample_mflix` с данными о кинофильмах."
      ]
    },
    {
      "cell_type": "markdown",
      "metadata": {
        "id": "SZnDnHNo0sPv"
      },
      "source": [
        "#### Задача 1.1 — **1 балл**"
      ]
    },
    {
      "cell_type": "markdown",
      "metadata": {
        "id": "A_Y7zbHe0u1T"
      },
      "source": [
        "Выведите из коллекции `theaters` документы о кинотеатрах в городе Florence, штат KY.\n",
        "\n",
        "Для справки:\n",
        "\n",
        "* Обратите внимание на то, что информация об адресе кинотеатров хранится во вложенных документах. Для доступа к полям вложенных документов следует использовать точку: `родительский_документ.вложенный_документ.поле`.\n",
        "* В случае затруднений с написанием логического условия обращайтесь к сопоставлению синтаксиса SQL и Mongo: https://www.mongodb.com/docs/manual/reference/sql-comparison/.\n",
        "* Если вы предпочитаете сперва выполнять запросы в Compass, из этого приложения можно выгружать код готового запроса на Python (кнопка с символом `</>`)."
      ]
    },
    {
      "cell_type": "code",
      "execution_count": null,
      "metadata": {
        "id": "_z2iic5S0zCk"
      },
      "outputs": [
        {
          "name": "stdout",
          "output_type": "stream",
          "text": [
            "{'_id': ObjectId('59a47287cfa9a3a73e51e893'), 'theaterId': 161, 'location': {'address': {'street1': '100 Meijer Dr.', 'city': 'Florence', 'state': 'KY', 'zipcode': '41042'}, 'geo': {'type': 'Point', 'coordinates': [-84.636383, 39.014843]}}}\n",
            "{'_id': ObjectId('59a47287cfa9a3a73e51ea02'), 'theaterId': 2823, 'location': {'address': {'street1': '2823 Florence Mall', 'street2': '#2148', 'city': 'Florence', 'state': 'KY', 'zipcode': '41042'}, 'geo': {'type': 'Point', 'coordinates': [-84.6499595, 38.9967246]}}}\n"
          ]
        }
      ],
      "source": [
        "db = client['sample_mflix']\n",
        "collection = db['theaters']\n",
        "query = {\n",
        "    \"location.address.city\": \"Florence\",\n",
        "    \"location.address.state\": \"KY\"\n",
        "}\n",
        "\n",
        "result = collection.find(query)\n",
        "\n",
        "for i in result:\n",
        "    print(i)\n"
      ]
    },
    {
      "cell_type": "markdown",
      "metadata": {
        "id": "ZddwIpmPITB4"
      },
      "source": [
        "#### Задача 1.2 — **1 балл**"
      ]
    },
    {
      "cell_type": "markdown",
      "metadata": {
        "id": "n6hLPu2iODjH"
      },
      "source": [
        "Сделав запрос к коллекции `comments`, выведите _один_ комментарий (значение поля `text`) пользователя по имени Doreah."
      ]
    },
    {
      "cell_type": "code",
      "execution_count": 14,
      "metadata": {
        "id": "GXOz_fZCPFg_"
      },
      "outputs": [
        {
          "name": "stdout",
          "output_type": "stream",
          "text": [
            "Porro explicabo cumque vitae sint quia quis. Consequuntur voluptatibus optio maxime ratione temporibus incidunt minus architecto.\n"
          ]
        }
      ],
      "source": [
        "collection = db['comments']\n",
        "query = {\"name\": \"Doreah\"}\n",
        "result = collection.find_one(query)\n",
        "\n",
        "print(result.get(\"text\"))"
      ]
    },
    {
      "cell_type": "markdown",
      "metadata": {
        "id": "tZEJx_DoXuDL"
      },
      "source": [
        "#### Задача 1.3 — **1 балл**"
      ]
    },
    {
      "cell_type": "markdown",
      "metadata": {
        "id": "h8k13yBRX0Uf"
      },
      "source": [
        "Сделав запрос к коллекции `movies`, выведите количество документов, в которых в качестве первого жанра фильма (поле `genres`) указано значение «Horror».\n",
        "\n",
        "Для справки:\n",
        "\n",
        "1. Обратите внимание, что поле `genres` представляет собой массив (индексация массивов начинается с нуля).\n",
        "1. При работе в MongoDB Shell для подсчета количества документов в курсоре можно использовать метод `count()`, однако он был удален в последних версиях библиотеки pymongo. В случае затруднений с использованием функций Mongo можно использовать для подсчета документов средства Python."
      ]
    },
    {
      "cell_type": "code",
      "execution_count": 15,
      "metadata": {
        "id": "3T6W4GVUX154"
      },
      "outputs": [
        {
          "name": "stdout",
          "output_type": "stream",
          "text": [
            "700\n"
          ]
        }
      ],
      "source": [
        "collection = db['movies']\n",
        "query = {\"genres.0\": \"Horror\"}\n",
        "result = collection.count_documents(query)\n",
        "\n",
        "print(result)"
      ]
    },
    {
      "cell_type": "markdown",
      "metadata": {
        "id": "kTue_nh7TFUx"
      },
      "source": [
        "#### Задача 1.4 — **2 балла**"
      ]
    },
    {
      "cell_type": "markdown",
      "metadata": {
        "id": "kuIndgkLT9Tm"
      },
      "source": [
        "Выведите из коллекции `movies` документы о фильмах, которые в качестве первого жанра определены как «Film-Noir» либо «Horror» и были выпущены в период с 1940 по 1949 гг. (включительно)."
      ]
    },
    {
      "cell_type": "code",
      "execution_count": 19,
      "metadata": {
        "id": "hQwJj-fyTtQ1"
      },
      "outputs": [
        {
          "name": "stdout",
          "output_type": "stream",
          "text": [
            "Cat People (1942) — Жанр: ['Horror', 'Thriller']\n",
            "I Walked with a Zombie (1943) — Жанр: ['Horror']\n",
            "The Leopard Man (1943) — Жанр: ['Horror', 'Thriller']\n",
            "The Body Snatcher (1945) — Жанр: ['Horror', 'Thriller']\n",
            "Dead of Night (1945) — Жанр: ['Horror']\n",
            "The Chase (1946) — Жанр: ['Film-Noir']\n",
            "The Set-Up (1949) — Жанр: ['Film-Noir', 'Sport']\n"
          ]
        }
      ],
      "source": [
        "collection = db['movies']\n",
        "query = {\n",
        "    \"genres.0\": {\"$in\": [\"Film-Noir\", \"Horror\"]},  \n",
        "    \"year\": {\"$gte\": 1940, \"$lte\": 1949}          \n",
        "}\n",
        "\n",
        "result = collection.find(query)\n",
        "\n",
        "for i in result:\n",
        "    print(f\"{i.get('title')} ({i.get('year')}) — Жанр: {i.get('genres')}\")"
      ]
    },
    {
      "cell_type": "markdown",
      "metadata": {
        "id": "B56JNDs88fnh"
      },
      "source": [
        "#### Задача 1.5 — **1 балл**"
      ]
    },
    {
      "cell_type": "markdown",
      "metadata": {
        "id": "VvFx2iL98mTQ"
      },
      "source": [
        "Модифицируйте запрос из задачи 1.4 таким образом, чтобы осуществить _проекцию_: результатом выборки должен стать список словарей, каждый из которых содержит только два поля: `title` и `year`.\n",
        "\n",
        "Для справки о проекции см. документацию по методу `find()` в pymongo:\n",
        "https://pymongo.readthedocs.io/en/stable/api/pymongo/collection.html#pymongo.collection.Collection.find"
      ]
    },
    {
      "cell_type": "code",
      "execution_count": null,
      "metadata": {
        "id": "tnkwb6HXY014"
      },
      "outputs": [
        {
          "name": "stdout",
          "output_type": "stream",
          "text": [
            "{'title': 'Cat People', 'year': 1942}\n",
            "{'title': 'I Walked with a Zombie', 'year': 1943}\n",
            "{'title': 'The Leopard Man', 'year': 1943}\n",
            "{'title': 'The Body Snatcher', 'year': 1945}\n",
            "{'title': 'Dead of Night', 'year': 1945}\n",
            "{'title': 'The Chase', 'year': 1946}\n",
            "{'title': 'The Set-Up', 'year': 1949}\n"
          ]
        }
      ],
      "source": [
        "collection = db['movies']\n",
        "query = {\n",
        "    \"genres.0\": {\"$in\": [\"Film-Noir\", \"Horror\"]},  \n",
        "    \"year\": {\"$gte\": 1940, \"$lte\": 1949}          \n",
        "}\n",
        "\n",
        "result = collection.find(query, {\"title\": 1, \"year\": 1, \"_id\": 0})\n",
        "\n",
        "for i in result:\n",
        "    print(i)"
      ]
    },
    {
      "cell_type": "markdown",
      "metadata": {
        "id": "tzx1nDQ08ojw"
      },
      "source": [
        "### Упражнение 2. Конвейер агрегации"
      ]
    },
    {
      "cell_type": "markdown",
      "metadata": {
        "id": "nx6axWfJbBbc"
      },
      "source": [
        "#### Задача 2.1 — **3 балла**"
      ]
    },
    {
      "cell_type": "markdown",
      "metadata": {
        "id": "oj1sBQtGbLNQ"
      },
      "source": [
        "В рамках этой задачи требуется узнать, какие фильмы получили наибольшее число комментариев. Составьте для этого конвейер агрегации с перечисленными ниже этапами. Для удобства рекомендуется воспользоваться приложением Compass.\n",
        "\n",
        "1. Сгруппировать документы коллекции `comments` по полю `movie_id` и подсчитать количество комментариев для каждого фильма, записав его в поле `count`.\n",
        "1. Отсортировать получившийся набор данных по убыванию количества комментариев (так чтобы первый документ в этом наборе указывал на фильм с наибольшим количеством комментариев).\n",
        "1. Используя оператор `$lookup`, присоединить коллекцию `movies` (по полю `movie_id`).\n",
        "1. Выполнить проекцию, оставив в наборе данных только три поля: название фильма (`title`), год выпуска (`year`) и количество комментариев (поле `count`, добавленное на первом этапе). Для этого воспользуйтесь оператором `$project`: https://www.mongodb.com/docs/manual/reference/operator/aggregation/project/. Обратите внимание, что данные из коллекции `movies` (`title` и `year`) на этом этапе окажутся внутри массива.\n",
        "1. Применить оператор `$unwind`, чтобы деконструировать этот массив. См. https://www.mongodb.com/docs/manual/reference/operator/aggregation/unwind/. В результате массив должен превратиться в одиночный объект.\n",
        "1. Применить оператор `$addFields`, чтобы добавить поля `title` и `year` на вернхий уровень структуры документа. См. https://www.mongodb.com/docs/manual/reference/operator/aggregation/addFields/.\n",
        "1. Еще раз выполнить проекцию, чтобы удалить поле с массивом.\n",
        "\n",
        "Ваш алгоритм решения может отличаться от приведенного здесь. Главное — достичь цели: получить плоский набор данных с тремя полями (`count` — количество комментариев, `year` — год выпуска, `title` — название фильма).\n",
        "\n",
        "Скопируйте полученный конвейер в этот документ в виде кода на Python и выведите его на экран в виде списка словарей."
      ]
    },
    {
      "cell_type": "code",
      "execution_count": 24,
      "metadata": {
        "id": "MSI2ITxZjMk2"
      },
      "outputs": [
        {
          "name": "stdout",
          "output_type": "stream",
          "text": [
            "{'count': 161, 'title': 'The Taking of Pelham 1 2 3', 'year': 2009}\n",
            "{'count': 158, 'title': \"Ocean's Eleven\", 'year': 2001}\n",
            "{'count': 158, 'title': 'About a Boy', 'year': 2002}\n",
            "{'count': 158, 'title': 'Terminator Salvation', 'year': 2009}\n",
            "{'count': 158, 'title': '50 First Dates', 'year': 2004}\n",
            "{'count': 157, 'title': 'The Mummy', 'year': 1999}\n",
            "{'count': 157, 'title': 'Sherlock Holmes', 'year': 2009}\n",
            "{'count': 155, 'title': 'Hellboy II: The Golden Army', 'year': 2008}\n",
            "{'count': 154, 'title': 'The Mummy Returns', 'year': 2001}\n",
            "{'count': 154, 'title': 'Anchorman: The Legend of Ron Burgundy', 'year': 2004}\n",
            "{'count': 153, 'title': 'E.T. the Extra-Terrestrial', 'year': 1982}\n",
            "{'count': 153, 'title': 'Mission: Impossible', 'year': 1996}\n",
            "{'count': 153, 'title': 'X-Men', 'year': 2000}\n",
            "{'count': 153, 'title': 'Bruce Almighty', 'year': 2003}\n",
            "{'count': 153, 'title': \"Pirates of the Caribbean: At World's End\", 'year': 2007}\n",
            "{'count': 153, 'title': 'Cinderella', 'year': 1950}\n",
            "{'count': 153, 'title': 'American Pie', 'year': 1999}\n",
            "{'count': 153, 'title': 'Wanted', 'year': 2008}\n",
            "{'count': 152, 'title': 'Gladiator', 'year': 2000}\n",
            "{'count': 152, 'title': 'The Ring', 'year': 2002}\n"
          ]
        }
      ],
      "source": [
        "comments_collection = db['comments']\n",
        "movies_collection = db['movies']\n",
        "\n",
        "pipeline = [\n",
        "    {\n",
        "        \"$group\": {\n",
        "            \"_id\": \"$movie_id\",\n",
        "            \"count\": {\"$sum\": 1}\n",
        "        }\n",
        "    },\n",
        "\n",
        "    {\n",
        "        \"$sort\": {\"count\": -1}\n",
        "    },\n",
        "\n",
        "    {\n",
        "        \"$lookup\": {\n",
        "            \"from\": \"movies\",\n",
        "            \"localField\": \"_id\",\n",
        "            \"foreignField\": \"_id\",\n",
        "            \"as\": \"movie_info\",\n",
        "            \"pipeline\": [\n",
        "                {\"$project\": {\"title\": 1, \"year\": 1}}\n",
        "            ]\n",
        "        }\n",
        "    },\n",
        "\n",
        "    {\n",
        "        \"$unwind\": \"$movie_info\"\n",
        "    },\n",
        "\n",
        "    {\n",
        "        \"$addFields\": {\n",
        "            \"title\": \"$movie_info.title\",\n",
        "            \"year\": \"$movie_info.year\"\n",
        "        }\n",
        "    },\n",
        "\n",
        "    {\n",
        "        \"$project\": {\n",
        "            \"_id\": 0,\n",
        "            \"title\": 1,\n",
        "            \"year\": 1,\n",
        "            \"count\": 1\n",
        "        }\n",
        "    },\n",
        "\n",
        "    {\n",
        "        \"$limit\": 20\n",
        "    }\n",
        "]\n",
        "\n",
        "result = comments_collection.aggregate(pipeline)\n",
        "\n",
        "for i in result:\n",
        "    print(i)\n"
      ]
    },
    {
      "cell_type": "markdown",
      "metadata": {
        "id": "AFZpD6MVqVff"
      },
      "source": [
        "#### Задача 2.2 — **1 балл**"
      ]
    },
    {
      "cell_type": "markdown",
      "metadata": {
        "id": "fqF1_fs1qWvj"
      },
      "source": [
        "Используя данные, полученные в задаче 2.1, выведите на экран столбчатую диаграмму, показывающую топ-20 наиболее комментируемых фильмов. По оси ординат выведите названия этих фильмов (подписи разместите слева диаграммы), по оси абсцисс — количество комментариев.\n",
        "\n",
        "Для решения задачи можно использовать любую библиотеку, например Seaborn или Matplotlib."
      ]
    },
    {
      "cell_type": "code",
      "execution_count": null,
      "metadata": {
        "id": "J17JdNLymo5k"
      },
      "outputs": [
        {
          "data": {
            "image/png": "[encoded data removed]",
            "text/plain": [
              "<Figure size 1000x800 with 1 Axes>"
            ]
          },
          "metadata": {},
          "output_type": "display_data"
        }
      ],
      "source": [
        "import matplotlib.pyplot as plt\n",
        "\n",
        "titles = []\n",
        "counts = []\n",
        "\n",
        "pipeline[-1][\"$limit\"] = 20 \n",
        "result = comments_collection.aggregate(pipeline)\n",
        "\n",
        "for doc in result:\n",
        "    titles.append(doc[\"title\"])\n",
        "    counts.append(doc[\"count\"])\n",
        "\n",
        "plt.figure(figsize=(10, 8))\n",
        "plt.barh(titles, counts, color='skyblue')\n",
        "plt.xlabel('Количество комментариев')\n",
        "plt.ylabel('Фильмы')\n",
        "plt.title('Топ-20 самых комментируемых фильмов')\n",
        "plt.gca().invert_yaxis() \n",
        "plt.grid(axis='x', linestyle='--', alpha=0.5)\n",
        "plt.tight_layout()\n",
        "plt.show()"
      ]
    }
  ],
  "metadata": {
    "colab": {
      "provenance": []
    },
    "kernelspec": {
      "display_name": "Python 3",
      "name": "python3"
    },
    "language_info": {
      "codemirror_mode": {
        "name": "ipython",
        "version": 3
      },
      "file_extension": ".py",
      "mimetype": "text/x-python",
      "name": "python",
      "nbconvert_exporter": "python",
      "pygments_lexer": "ipython3",
      "version": "3.11.0"
    }
  },
  "nbformat": 4,
  "nbformat_minor": 0
}
