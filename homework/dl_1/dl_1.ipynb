{
 "cells": [
  {
   "cell_type": "code",
   "execution_count": null,
   "id": "c8c3a57c",
   "metadata": {},
   "outputs": [],
   "source": [
    "import numpy as np\n",
    "import pandas as pd\n",
    "import lightgbm as lgb\n",
    "import matplotlib.pyplot as plt\n",
    "from catboost import CatBoostClassifier\n",
    "from sklearn.metrics import accuracy_score\n",
    "from tensorflow.keras.models import Sequential\n",
    "from sklearn.preprocessing import StandardScaler\n",
    "from tensorflow.keras.utils import to_categorical\n",
    "from sklearn.model_selection import train_test_split\n",
    "from tensorflow.keras.layers import Input, Dense, Dropout"
   ]
  },
  {
   "cell_type": "code",
   "execution_count": 17,
   "id": "d73ff08b",
   "metadata": {},
   "outputs": [],
   "source": [
    "fmnist_test = pd.read_csv(\"D:\\\\ds\\\\fmnist_test.csv\")\n",
    "fmnist_train = pd.read_csv(\"D:\\\\ds\\\\fmnist_train.csv\")\n",
    "sample_submission = pd.read_csv(\"D:\\\\ds\\\\sample_submission.csv\")"
   ]
  },
  {
   "cell_type": "code",
   "execution_count": 19,
   "id": "70a0a1f3",
   "metadata": {},
   "outputs": [
    {
     "data": {
      "text/plain": [
       "pixel393    1\n",
       "pixel495    1\n",
       "pixel497    1\n",
       "pixel498    1\n",
       "pixel499    1\n",
       "           ..\n",
       "pixel242    0\n",
       "pixel243    0\n",
       "pixel244    0\n",
       "pixel245    0\n",
       "Id          0\n",
       "Length: 786, dtype: int64"
      ]
     },
     "execution_count": 19,
     "metadata": {},
     "output_type": "execute_result"
    }
   ],
   "source": [
    "fmnist_train.isna().sum().sort_values(ascending=False)"
   ]
  },
  {
   "cell_type": "code",
   "execution_count": 35,
   "id": "ac7331c7",
   "metadata": {},
   "outputs": [
    {
     "data": {
      "image/png": "[encoded data removed]",
      "text/plain": [
       "<Figure size 640x480 with 1 Axes>"
      ]
     },
     "metadata": {},
     "output_type": "display_data"
    }
   ],
   "source": [
    "fmnist_train.fillna(0, inplace=True)\n",
    "X = fmnist_train.drop(columns=[\"label\", \"Id\"])\n",
    "y = fmnist_train[\"label\"]\n",
    "X = X / 255.0\n",
    "\n",
    "plt.imshow(X.iloc[0].values.reshape(28, 28), cmap='gray')\n",
    "plt.title(f\"Label: {y.iloc[0]}\")\n",
    "plt.show()"
   ]
  },
  {
   "cell_type": "code",
   "execution_count": null,
   "id": "4490943b",
   "metadata": {},
   "outputs": [],
   "source": [
    "X = fmnist_train.drop(columns=[\"label\", \"Id\"]).values\n",
    "y = fmnist_train[\"label\"].values\n",
    "X_train, X_val, y_train, y_val = train_test_split(X, y, test_size=0.2, random_state=42)\n",
    "\n",
    "scaler = StandardScaler()\n",
    "X_train_scaled = scaler.fit_transform(X_train)\n",
    "X_val_scaled = scaler.transform(X_val)\n",
    "\n",
    "y_train_cat = to_categorical(y_train)\n",
    "y_val_cat = to_categorical(y_val)"
   ]
  },
  {
   "cell_type": "code",
   "execution_count": null,
   "id": "df2e86c5",
   "metadata": {},
   "outputs": [
    {
     "name": "stdout",
     "output_type": "stream",
     "text": [
      "Epoch 1/20\n",
      "107/107 [==============================] - 2s 10ms/step - loss: 0.8031 - accuracy: 0.7223 - val_loss: 0.4703 - val_accuracy: 0.8333\n",
      "Epoch 2/20\n",
      "107/107 [==============================] - 1s 8ms/step - loss: 0.5253 - accuracy: 0.8117 - val_loss: 0.4531 - val_accuracy: 0.8369\n",
      "Epoch 3/20\n",
      "107/107 [==============================] - 1s 8ms/step - loss: 0.4554 - accuracy: 0.8346 - val_loss: 0.3989 - val_accuracy: 0.8530\n",
      "Epoch 4/20\n",
      "107/107 [==============================] - 1s 8ms/step - loss: 0.4162 - accuracy: 0.8495 - val_loss: 0.4093 - val_accuracy: 0.8495\n",
      "Epoch 5/20\n",
      "107/107 [==============================] - 1s 8ms/step - loss: 0.3864 - accuracy: 0.8547 - val_loss: 0.3890 - val_accuracy: 0.8592\n",
      "Epoch 6/20\n",
      "107/107 [==============================] - 1s 8ms/step - loss: 0.3597 - accuracy: 0.8672 - val_loss: 0.3785 - val_accuracy: 0.8609\n",
      "Epoch 7/20\n",
      "107/107 [==============================] - 1s 8ms/step - loss: 0.3431 - accuracy: 0.8730 - val_loss: 0.3807 - val_accuracy: 0.8680\n",
      "Epoch 8/20\n",
      "107/107 [==============================] - 1s 9ms/step - loss: 0.3380 - accuracy: 0.8723 - val_loss: 0.4011 - val_accuracy: 0.8592\n",
      "Epoch 9/20\n",
      "107/107 [==============================] - 1s 9ms/step - loss: 0.3081 - accuracy: 0.8851 - val_loss: 0.3822 - val_accuracy: 0.8650\n",
      "Epoch 10/20\n",
      "107/107 [==============================] - 1s 8ms/step - loss: 0.2933 - accuracy: 0.8927 - val_loss: 0.3947 - val_accuracy: 0.8621\n",
      "Epoch 11/20\n",
      "107/107 [==============================] - 1s 8ms/step - loss: 0.2823 - accuracy: 0.8930 - val_loss: 0.3893 - val_accuracy: 0.8691\n",
      "Epoch 12/20\n",
      "107/107 [==============================] - 1s 8ms/step - loss: 0.2768 - accuracy: 0.8965 - val_loss: 0.3901 - val_accuracy: 0.8721\n",
      "Epoch 13/20\n",
      "107/107 [==============================] - 1s 8ms/step - loss: 0.2703 - accuracy: 0.9008 - val_loss: 0.3838 - val_accuracy: 0.8636\n",
      "Epoch 14/20\n",
      "107/107 [==============================] - 1s 8ms/step - loss: 0.2587 - accuracy: 0.9053 - val_loss: 0.3814 - val_accuracy: 0.8680\n",
      "Epoch 15/20\n",
      "107/107 [==============================] - 1s 8ms/step - loss: 0.2490 - accuracy: 0.9076 - val_loss: 0.3946 - val_accuracy: 0.8756\n",
      "Epoch 16/20\n",
      "107/107 [==============================] - 1s 8ms/step - loss: 0.2403 - accuracy: 0.9139 - val_loss: 0.3982 - val_accuracy: 0.8665\n",
      "Epoch 17/20\n",
      "107/107 [==============================] - 1s 8ms/step - loss: 0.2339 - accuracy: 0.9120 - val_loss: 0.4046 - val_accuracy: 0.8656\n",
      "Epoch 18/20\n",
      "107/107 [==============================] - 1s 8ms/step - loss: 0.2178 - accuracy: 0.9170 - val_loss: 0.4009 - val_accuracy: 0.8671\n",
      "Epoch 19/20\n",
      "107/107 [==============================] - 1s 8ms/step - loss: 0.2165 - accuracy: 0.9172 - val_loss: 0.3988 - val_accuracy: 0.8773\n",
      "Epoch 20/20\n",
      "107/107 [==============================] - 1s 8ms/step - loss: 0.2230 - accuracy: 0.9148 - val_loss: 0.4189 - val_accuracy: 0.8718\n",
      "107/107 [==============================] - 0s 2ms/step\n"
     ]
    }
   ],
   "source": [
    "model = Sequential([\n",
    "    Input(shape=(784,)),\n",
    "    Dense(256, activation='relu'),\n",
    "    Dropout(0.3),\n",
    "    Dense(128, activation='relu'),\n",
    "    Dropout(0.3),\n",
    "    Dense(10, activation='softmax')\n",
    "])\n",
    "\n",
    "model.compile(optimizer='adam', loss='categorical_crossentropy', metrics=['accuracy'])\n",
    "model.fit(X_train_scaled, y_train_cat, epochs=20, batch_size=128, verbose=1, validation_data=(X_val_scaled, y_val_cat))\n",
    "\n",
    "nn_val_proba = model.predict(X_val_scaled)"
   ]
  },
  {
   "cell_type": "code",
   "execution_count": 26,
   "id": "99578ae5",
   "metadata": {},
   "outputs": [],
   "source": [
    "cat_model = CatBoostClassifier(verbose=0)\n",
    "cat_model.fit(X_train, y_train)\n",
    "cat_val_proba = cat_model.predict_proba(X_val)"
   ]
  },
  {
   "cell_type": "code",
   "execution_count": 27,
   "id": "fe263ec2",
   "metadata": {},
   "outputs": [
    {
     "name": "stdout",
     "output_type": "stream",
     "text": [
      "[LightGBM] [Info] Auto-choosing col-wise multi-threading, the overhead of testing was 0.081858 seconds.\n",
      "You can set `force_col_wise=true` to remove the overhead.\n",
      "[LightGBM] [Info] Total Bins 160866\n",
      "[LightGBM] [Info] Number of data points in the train set: 13632, number of used features: 782\n",
      "[LightGBM] [Info] Start training from score -2.243619\n",
      "[LightGBM] [Info] Start training from score -2.306407\n",
      "[LightGBM] [Info] Start training from score -2.337823\n",
      "[LightGBM] [Info] Start training from score -2.310835\n",
      "[LightGBM] [Info] Start training from score -2.327993\n",
      "[LightGBM] [Info] Start training from score -2.320497\n",
      "[LightGBM] [Info] Start training from score -2.301998\n",
      "[LightGBM] [Info] Start training from score -2.278809\n",
      "[LightGBM] [Info] Start training from score -2.314540\n",
      "[LightGBM] [Info] Start training from score -2.286720\n"
     ]
    }
   ],
   "source": [
    "lgb_model = lgb.LGBMClassifier()\n",
    "lgb_model.fit(X_train, y_train)\n",
    "lgb_val_proba = lgb_model.predict_proba(X_val)"
   ]
  },
  {
   "cell_type": "code",
   "execution_count": 31,
   "id": "b5bbc400",
   "metadata": {},
   "outputs": [
    {
     "name": "stdout",
     "output_type": "stream",
     "text": [
      "Accuracy ансамбля на валидации: 0.8859\n"
     ]
    }
   ],
   "source": [
    "ensemble_val_proba = (nn_val_proba + cat_val_proba + lgb_val_proba) / 3\n",
    "ensemble_val_pred = np.argmax(ensemble_val_proba, axis=1)\n",
    "val_accuracy = accuracy_score(y_val, ensemble_val_pred)\n",
    "print(f\"Accuracy ансамбля на валидации: {val_accuracy:.4f}\")"
   ]
  },
  {
   "cell_type": "code",
   "execution_count": 34,
   "id": "f1334fdc",
   "metadata": {},
   "outputs": [
    {
     "name": "stdout",
     "output_type": "stream",
     "text": [
      "313/313 [==============================] - 1s 2ms/step\n"
     ]
    }
   ],
   "source": [
    "X_test = fmnist_test.drop(columns=[\"Id\"]).values\n",
    "X_test_scaled = scaler.transform(X_test)\n",
    "\n",
    "nn_test_proba = model.predict(X_test_scaled)\n",
    "cat_test_proba = cat_model.predict_proba(X_test)\n",
    "lgb_test_proba = lgb_model.predict_proba(X_test)\n",
    "\n",
    "ensemble_test_proba = (nn_test_proba + cat_test_proba + lgb_test_proba) / 3\n",
    "ensemble_test_pred = np.argmax(ensemble_test_proba, axis=1)\n",
    "\n",
    "sample_submission[\"label\"] = ensemble_test_pred\n",
    "sample_submission.to_csv(\"submission.csv\", index=False)"
   ]
  }
 ],
 "metadata": {
  "kernelspec": {
   "display_name": "tf_env",
   "language": "python",
   "name": "python3"
  },
  "language_info": {
   "codemirror_mode": {
    "name": "ipython",
    "version": 3
   },
   "file_extension": ".py",
   "mimetype": "text/x-python",
   "name": "python",
   "nbconvert_exporter": "python",
   "pygments_lexer": "ipython3",
   "version": "3.10.16"
  }
 },
 "nbformat": 4,
 "nbformat_minor": 5
}
