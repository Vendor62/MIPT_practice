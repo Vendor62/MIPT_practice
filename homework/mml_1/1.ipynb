{
 "cells": [
  {
   "cell_type": "code",
   "execution_count": 1,
   "id": "9ea829c3",
   "metadata": {},
   "outputs": [
    {
     "name": "stdout",
     "output_type": "stream",
     "text": [
      "Исправленный ноутбук сохранён как mml_1.ipynb\n"
     ]
    }
   ],
   "source": [
    "import json\n",
    "\n",
    "notebook_path = \"mml_1.ipynb\"\n",
    "output_path = \"mml_1.ipynb\"\n",
    "\n",
    "with open(notebook_path, \"r\", encoding=\"utf-8\") as f:\n",
    "    nb = json.load(f)\n",
    "\n",
    "def remove_widgets(obj):\n",
    "    \"\"\"Рекурсивно удаляет все ключи 'widgets' в любом месте\"\"\"\n",
    "    if isinstance(obj, dict):\n",
    "        if \"widgets\" in obj:\n",
    "            del obj[\"widgets\"]\n",
    "        for v in obj.values():\n",
    "            remove_widgets(v)\n",
    "    elif isinstance(obj, list):\n",
    "        for item in obj:\n",
    "            remove_widgets(item)\n",
    "\n",
    "remove_widgets(nb)\n",
    "\n",
    "# Сохраняем исправленный ноутбук\n",
    "with open(output_path, \"w\", encoding=\"utf-8\") as f:\n",
    "    json.dump(nb, f, ensure_ascii=False, indent=1)\n",
    "\n",
    "print(f\"Исправленный ноутбук сохранён как {output_path}\")\n"
   ]
  }
 ],
 "metadata": {
  "kernelspec": {
   "display_name": "work",
   "language": "python",
   "name": "python3"
  },
  "language_info": {
   "codemirror_mode": {
    "name": "ipython",
    "version": 3
   },
   "file_extension": ".py",
   "mimetype": "text/x-python",
   "name": "python",
   "nbconvert_exporter": "python",
   "pygments_lexer": "ipython3",
   "version": "3.10.16"
  }
 },
 "nbformat": 4,
 "nbformat_minor": 5
}
