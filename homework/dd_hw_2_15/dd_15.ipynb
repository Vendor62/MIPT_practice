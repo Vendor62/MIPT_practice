{
 "cells": [
  {
   "cell_type": "code",
   "execution_count": null,
   "id": "509b71bc",
   "metadata": {},
   "outputs": [],
   "source": [
    "import torch\n",
    "import torch.nn as nn\n",
    "import torch.optim as optim\n",
    "import torch.nn.functional as F\n",
    "from torch.utils.data import DataLoader, Dataset"
   ]
  },
  {
   "cell_type": "markdown",
   "id": "b935fb09",
   "metadata": {},
   "source": [
    "Текстовый файл `sequences.fasta` содержит набор последовательностей белков гистонов. Идентификатор последовательности содержит информацию о виде живого организма, идентификатор записи в базе данных NCBI, тип гистона, а также вариант гистона. Например, идентификатор `Drosophila|NP_724343.1|H2A|cH2A` означает, что последовательность из плодовой мухи дрозофилы, идентификатор записи в базе данных `NCBI NP_724343.1`, тип гистона H2A, вариант гистона cH2A. Создайте словарь (vocab) уникальных символов, входящих в состав последовательностей (символ “-” должен быть в составе словаря), и объедините его с уникальным набором типов гистонов.\n",
    "\n",
    "Сколько элементов получилось в переменной vocab?"
   ]
  },
  {
   "cell_type": "code",
   "execution_count": 14,
   "id": "f59f9863",
   "metadata": {},
   "outputs": [
    {
     "name": "stdout",
     "output_type": "stream",
     "text": [
      "Количество элементов в vocab: 28\n"
     ]
    }
   ],
   "source": [
    "vocab_seq = set()\n",
    "histone_types = set()\n",
    "\n",
    "with open(\"sequences.fasta\", \"r\") as file:\n",
    "    for line in file:\n",
    "        line = line.strip()\n",
    "        if line.startswith(\">\"):\n",
    "            parts = line[1:].split(\"|\")\n",
    "            if len(parts) >= 3:\n",
    "                histone_types.add(parts[2])\n",
    "        else:\n",
    "            vocab_seq.update(line)  \n",
    "            \n",
    "vocab = vocab_seq.union(histone_types)\n",
    "\n",
    "print(\"Количество элементов в vocab:\", len(vocab))"
   ]
  },
  {
   "cell_type": "markdown",
   "id": "cfeda57f",
   "metadata": {},
   "source": [
    "Создайте два словаря: в первом словаре ключом является символ, а значением его порядковый номер в словаре vocab; во втором словаре - наоборот. Первый словарь понадобится для того, чтобы закодировать последовательность и целевые значения (тип гистона) в виде тензора. Второй словарь, чтобы “превратить” тензор (например, полученный в результате предсказания) с исходный символ или тип гистона. Используя первый словарь, получите список тензоров, в котором каждый тензор - это закодированная последовательность, и тензор, хранящий закодированные целевые значения (типы гистонов для каждой последовательности). Сколько последовательностей получилось в предобработанном датасете (длина списка тензоров)?"
   ]
  },
  {
   "cell_type": "code",
   "execution_count": null,
   "id": "5ca93da9",
   "metadata": {},
   "outputs": [
    {
     "name": "stdout",
     "output_type": "stream",
     "text": [
      "Количество последовательностей в датасете: 9040\n"
     ]
    }
   ],
   "source": [
    "vocab_seq = set()\n",
    "histone_types = set()\n",
    "\n",
    "sequences = []\n",
    "labels = []\n",
    "\n",
    "with open(\"sequences.fasta\", \"r\") as file:\n",
    "    for line in file:\n",
    "        line = line.strip()\n",
    "        if line.startswith(\">\"):\n",
    "            parts = line[1:].split(\"|\")\n",
    "            if len(parts) >= 4:\n",
    "                current_histone = parts[2]\n",
    "                histone_types.add(current_histone)\n",
    "        else:\n",
    "            sequences.append(line)\n",
    "            labels.append(current_histone)\n",
    "            vocab_seq.update(line)\n",
    "\n",
    "char_to_idx = {ch: idx for idx, ch in enumerate(sorted(vocab_seq))}\n",
    "idx_to_char = {idx: ch for ch, idx in char_to_idx.items()}\n",
    "histone_to_idx = {h: idx for idx, h in enumerate(sorted(histone_types))}\n",
    "idx_to_histone = {idx: h for h, idx in histone_to_idx.items()}\n",
    "encoded_sequences = [torch.tensor([char_to_idx[ch] for ch in seq], dtype=torch.long) for seq in sequences]\n",
    "encoded_labels = torch.tensor([histone_to_idx[label] for label in labels], dtype=torch.long)\n",
    "\n",
    "print(\"Количество последовательностей в датасете:\", len(encoded_sequences))"
   ]
  },
  {
   "cell_type": "markdown",
   "id": "b6aeac8b",
   "metadata": {},
   "source": [
    "В этом задании вам необходимо написать рекуррентную нейросеть с механизмом внимания с использованием PyTorch. В качестве входного слоя создайте Embedding. Далее создайте 1 рекуррентный слой. В качестве слоя внимания используйте линейную трансформацию. В качестве выходного слоя используйте линейную трансформацию."
   ]
  },
  {
   "cell_type": "code",
   "execution_count": null,
   "id": "412ee042",
   "metadata": {},
   "outputs": [],
   "source": [
    "embedding_dim = 5\n",
    "hidden_dim = 9\n",
    "\n",
    "class RNNWithAttentionModel(nn.Module):\n",
    "    def __init__(self, vocab_size, random_seed=5):\n",
    "        super(RNNWithAttentionModel, self).__init__()\n",
    "        torch.manual_seed(random_seed)\n",
    "        torch.cuda.manual_seed(random_seed)\n",
    "        torch.backends.cudnn.deterministic = True\n",
    "        torch.backends.cudnn.benchmark = False\n",
    "\n",
    "        self.embeddings = nn.Embedding(vocab_size, embedding_dim)\n",
    "        self.rnn = nn.RNN(input_size=embedding_dim, hidden_size=hidden_dim, batch_first=True)\n",
    "        self.attention = nn.Linear(hidden_dim, 1)\n",
    "        self.fc = nn.Linear(hidden_dim, vocab_size)\n",
    "\n",
    "    def forward(self, x):\n",
    "        x = self.embeddings(x)  \n",
    "        out, _ = self.rnn(x)  \n",
    "        attention_scores = self.attention(out).squeeze(2)  \n",
    "        attention_weights = F.softmax(attention_scores, dim=1) \n",
    "        context = torch.sum(out * attention_weights.unsqueeze(2), dim=1)  \n",
    "        out = self.fc(context)  \n",
    "        return out"
   ]
  },
  {
   "cell_type": "markdown",
   "id": "3076df8a",
   "metadata": {},
   "source": [
    "Запустите обучение нейросети на 700 эпохах. Используйте значение кросс-энтропии в качестве функции потерь и адаптивный алгоритм Adam со скоростью обучения 0.01 в качестве алгоритма оптимизации."
   ]
  },
  {
   "cell_type": "code",
   "execution_count": 8,
   "id": "d22ddb9a",
   "metadata": {},
   "outputs": [
    {
     "name": "stdout",
     "output_type": "stream",
     "text": [
      "Epoch 1/700, Loss: 803.4678\n",
      "Epoch 50/700, Loss: 633.6779\n",
      "Epoch 100/700, Loss: 591.9705\n",
      "Epoch 150/700, Loss: 606.2118\n",
      "Epoch 200/700, Loss: 599.1180\n",
      "Epoch 250/700, Loss: 595.0021\n",
      "Epoch 300/700, Loss: 598.0742\n",
      "Epoch 350/700, Loss: 593.9923\n",
      "Epoch 400/700, Loss: 592.8188\n",
      "Epoch 450/700, Loss: 592.2310\n",
      "Epoch 500/700, Loss: 620.3305\n",
      "Epoch 550/700, Loss: 609.3977\n",
      "Epoch 600/700, Loss: 593.7352\n",
      "Epoch 650/700, Loss: 587.5502\n",
      "Epoch 700/700, Loss: 588.9373\n"
     ]
    }
   ],
   "source": [
    "embedding_dim = 5\n",
    "hidden_dim = 9\n",
    "epochs = 700\n",
    "learning_rate = 0.01\n",
    "batch_size = 16\n",
    "\n",
    "class HistoneDataset(Dataset):\n",
    "    def __init__(self, sequences, labels):\n",
    "        self.sequences = sequences\n",
    "        self.labels = labels\n",
    "\n",
    "    def __len__(self):\n",
    "        return len(self.sequences)\n",
    "\n",
    "    def __getitem__(self, idx):\n",
    "        return self.sequences[idx], self.labels[idx]\n",
    "\n",
    "def collate_fn(batch):\n",
    "    sequences, labels = zip(*batch)\n",
    "    padded_seqs = nn.utils.rnn.pad_sequence(sequences, batch_first=True, padding_value=0)\n",
    "    labels = torch.tensor(labels, dtype=torch.long)\n",
    "    return padded_seqs, labels\n",
    "\n",
    "dataset = HistoneDataset(encoded_sequences, encoded_labels)\n",
    "dataloader = DataLoader(dataset, batch_size=batch_size, shuffle=True, collate_fn=collate_fn)\n",
    "model = RNNWithAttentionModel(vocab_size=len(vocab))\n",
    "criterion = nn.CrossEntropyLoss()\n",
    "optimizer = optim.Adam(model.parameters(), lr=learning_rate)\n",
    "\n",
    "for epoch in range(epochs):\n",
    "    model.train()\n",
    "    total_loss = 0\n",
    "    for x_batch, y_batch in dataloader:\n",
    "        optimizer.zero_grad()\n",
    "        output = model(x_batch)         \n",
    "        loss = criterion(output, y_batch)\n",
    "        loss.backward()\n",
    "        optimizer.step()\n",
    "        total_loss += loss.item()\n",
    "    \n",
    "    if (epoch + 1) % 50 == 0 or epoch == 0:\n",
    "        print(f\"Epoch {epoch+1}/{epochs}, Loss: {total_loss:.4f}\")"
   ]
  },
  {
   "cell_type": "code",
   "execution_count": 9,
   "id": "c4fa1641",
   "metadata": {},
   "outputs": [
    {
     "name": "stdout",
     "output_type": "stream",
     "text": [
      "Final Accuracy: 57.27%\n"
     ]
    }
   ],
   "source": [
    "model.eval()\n",
    "correct = 0\n",
    "total = 0\n",
    "\n",
    "with torch.no_grad():\n",
    "    for x_batch, y_batch in dataloader:\n",
    "        output = model(x_batch)\n",
    "        _, predicted = torch.max(output, 1)\n",
    "        correct += (predicted == y_batch).sum().item()\n",
    "        total += y_batch.size(0)\n",
    "\n",
    "accuracy = correct / total * 100\n",
    "print(f\"Final Accuracy: {accuracy:.2f}%\")"
   ]
  },
  {
   "cell_type": "markdown",
   "id": "f6f9b258",
   "metadata": {},
   "source": [
    "Используя обученную модель нейросети предскажите тип гистона для последовательности: \n",
    "\n",
    "seq_fasta = '''>Pan|XP_003311177.1|HTYPE|HVARIANT \n",
    "\n",
    "MSGRGKQGGKARTKAKTRSSRAGLQFPVGRVHRLLRKGNYAERVGAGAPVYLAAVLEYLT \n",
    "\n",
    "AEILELAGNAARDNKKTRIIPRHLQLAIRNDEELNKLLGKVTIAQGGVLPNIQAVLLPKK \n",
    "\n",
    "TESHHKAKGK'''"
   ]
  },
  {
   "cell_type": "code",
   "execution_count": null,
   "id": "0fc8cc8c",
   "metadata": {},
   "outputs": [
    {
     "name": "stdout",
     "output_type": "stream",
     "text": [
      "Предсказанный тип гистона: H2A\n"
     ]
    }
   ],
   "source": [
    "seq_fasta = '''>Pan|XP_003311177.1|HTYPE|HVARIANT \n",
    "\n",
    "MSGRGKQGGKARTKAKTRSSRAGLQFPVGRVHRLLRKGNYAERVGAGAPVYLAAVLEYLT \n",
    "\n",
    "AEILELAGNAARDNKKTRIIPRHLQLAIRNDEELNKLLGKVTIAQGGVLPNIQAVLLPKK \n",
    "\n",
    "TESHHKAKGK'''\n",
    "\n",
    "sequence = ''.join([line.strip() for line in seq_fasta.splitlines() if not line.startswith(\">\")])\n",
    "encoded_seq = [histone_to_idx[c] for c in sequence]\n",
    "input_tensor = torch.tensor(encoded_seq, dtype=torch.long).unsqueeze(0)  \n",
    "model.eval()\n",
    "\n",
    "with torch.no_grad():\n",
    "    output = model(input_tensor)\n",
    "    predicted_idx = torch.argmax(output, dim=1).item()\n",
    "    predicted_histone = idx_to_histone[predicted_idx]\n",
    "\n",
    "print(f\"Предсказанный тип гистона: {predicted_histone}\")"
   ]
  }
 ],
 "metadata": {
  "kernelspec": {
   "display_name": "Python 3",
   "language": "python",
   "name": "python3"
  },
  "language_info": {
   "codemirror_mode": {
    "name": "ipython",
    "version": 3
   },
   "file_extension": ".py",
   "mimetype": "text/x-python",
   "name": "python",
   "nbconvert_exporter": "python",
   "pygments_lexer": "ipython3",
   "version": "3.11.0"
  }
 },
 "nbformat": 4,
 "nbformat_minor": 5
}
