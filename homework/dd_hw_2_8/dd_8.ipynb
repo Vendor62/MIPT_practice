{
 "cells": [
  {
   "cell_type": "code",
   "execution_count": 33,
   "metadata": {},
   "outputs": [],
   "source": [
    "import numpy as np\n",
    "import pandas as pd\n",
    "import matplotlib.pyplot as plt\n",
    "from sklearn.metrics import f1_score\n",
    "from catboost import CatBoostClassifier\n",
    "from sklearn.tree import DecisionTreeRegressor\n",
    "from sklearn.model_selection import train_test_split\n",
    "from sklearn.preprocessing import OrdinalEncoder, OneHotEncoder, LabelEncoder\n",
    "from sklearn.ensemble import RandomForestClassifier, GradientBoostingClassifier"
   ]
  },
  {
   "cell_type": "code",
   "execution_count": 15,
   "metadata": {},
   "outputs": [],
   "source": [
    "data = pd.read_csv(\"D:\\\\ds\\\\WA_Fn-UseC_-Telco-Customer-Churn.csv\")"
   ]
  },
  {
   "cell_type": "code",
   "execution_count": 4,
   "metadata": {},
   "outputs": [],
   "source": [
    "def get_uniques(dataframe):\n",
    "    columns = dataframe.columns\n",
    "    uniques = [dataframe[col].dropna().unique().tolist() for col in columns]\n",
    "    data_types = [dataframe[col].dtype for col in columns]\n",
    "    result_df = pd.DataFrame(\n",
    "        {'Столбцы': columns,\n",
    "         'Уникальные значения': uniques, \n",
    "         'Тип данных': data_types})\n",
    "    return result_df"
   ]
  },
  {
   "cell_type": "code",
   "execution_count": 8,
   "metadata": {},
   "outputs": [
    {
     "data": {
      "text/html": [
       "<div>\n",
       "<style scoped>\n",
       "    .dataframe tbody tr th:only-of-type {\n",
       "        vertical-align: middle;\n",
       "    }\n",
       "\n",
       "    .dataframe tbody tr th {\n",
       "        vertical-align: top;\n",
       "    }\n",
       "\n",
       "    .dataframe thead th {\n",
       "        text-align: right;\n",
       "    }\n",
       "</style>\n",
       "<table border=\"1\" class=\"dataframe\">\n",
       "  <thead>\n",
       "    <tr style=\"text-align: right;\">\n",
       "      <th></th>\n",
       "      <th>Столбцы</th>\n",
       "      <th>Уникальные значения</th>\n",
       "      <th>Тип данных</th>\n",
       "    </tr>\n",
       "  </thead>\n",
       "  <tbody>\n",
       "    <tr>\n",
       "      <th>0</th>\n",
       "      <td>customerID</td>\n",
       "      <td>[7590-VHVEG, 5575-GNVDE, 3668-QPYBK, 7795-CFOC...</td>\n",
       "      <td>object</td>\n",
       "    </tr>\n",
       "    <tr>\n",
       "      <th>1</th>\n",
       "      <td>gender</td>\n",
       "      <td>[Female, Male]</td>\n",
       "      <td>object</td>\n",
       "    </tr>\n",
       "    <tr>\n",
       "      <th>2</th>\n",
       "      <td>SeniorCitizen</td>\n",
       "      <td>[0, 1]</td>\n",
       "      <td>int64</td>\n",
       "    </tr>\n",
       "    <tr>\n",
       "      <th>3</th>\n",
       "      <td>Partner</td>\n",
       "      <td>[Yes, No]</td>\n",
       "      <td>object</td>\n",
       "    </tr>\n",
       "    <tr>\n",
       "      <th>4</th>\n",
       "      <td>Dependents</td>\n",
       "      <td>[No, Yes]</td>\n",
       "      <td>object</td>\n",
       "    </tr>\n",
       "    <tr>\n",
       "      <th>5</th>\n",
       "      <td>tenure</td>\n",
       "      <td>[1, 34, 2, 45, 8, 22, 10, 28, 62, 13, 16, 58, ...</td>\n",
       "      <td>int64</td>\n",
       "    </tr>\n",
       "    <tr>\n",
       "      <th>6</th>\n",
       "      <td>PhoneService</td>\n",
       "      <td>[No, Yes]</td>\n",
       "      <td>object</td>\n",
       "    </tr>\n",
       "    <tr>\n",
       "      <th>7</th>\n",
       "      <td>MultipleLines</td>\n",
       "      <td>[No phone service, No, Yes]</td>\n",
       "      <td>object</td>\n",
       "    </tr>\n",
       "    <tr>\n",
       "      <th>8</th>\n",
       "      <td>InternetService</td>\n",
       "      <td>[DSL, Fiber optic, No]</td>\n",
       "      <td>object</td>\n",
       "    </tr>\n",
       "    <tr>\n",
       "      <th>9</th>\n",
       "      <td>OnlineSecurity</td>\n",
       "      <td>[No, Yes, No internet service]</td>\n",
       "      <td>object</td>\n",
       "    </tr>\n",
       "    <tr>\n",
       "      <th>10</th>\n",
       "      <td>OnlineBackup</td>\n",
       "      <td>[Yes, No, No internet service]</td>\n",
       "      <td>object</td>\n",
       "    </tr>\n",
       "    <tr>\n",
       "      <th>11</th>\n",
       "      <td>DeviceProtection</td>\n",
       "      <td>[No, Yes, No internet service]</td>\n",
       "      <td>object</td>\n",
       "    </tr>\n",
       "    <tr>\n",
       "      <th>12</th>\n",
       "      <td>TechSupport</td>\n",
       "      <td>[No, Yes, No internet service]</td>\n",
       "      <td>object</td>\n",
       "    </tr>\n",
       "    <tr>\n",
       "      <th>13</th>\n",
       "      <td>StreamingTV</td>\n",
       "      <td>[No, Yes, No internet service]</td>\n",
       "      <td>object</td>\n",
       "    </tr>\n",
       "    <tr>\n",
       "      <th>14</th>\n",
       "      <td>StreamingMovies</td>\n",
       "      <td>[No, Yes, No internet service]</td>\n",
       "      <td>object</td>\n",
       "    </tr>\n",
       "    <tr>\n",
       "      <th>15</th>\n",
       "      <td>Contract</td>\n",
       "      <td>[Month-to-month, One year, Two year]</td>\n",
       "      <td>object</td>\n",
       "    </tr>\n",
       "    <tr>\n",
       "      <th>16</th>\n",
       "      <td>PaperlessBilling</td>\n",
       "      <td>[Yes, No]</td>\n",
       "      <td>object</td>\n",
       "    </tr>\n",
       "    <tr>\n",
       "      <th>17</th>\n",
       "      <td>PaymentMethod</td>\n",
       "      <td>[Electronic check, Mailed check, Bank transfer...</td>\n",
       "      <td>object</td>\n",
       "    </tr>\n",
       "    <tr>\n",
       "      <th>18</th>\n",
       "      <td>MonthlyCharges</td>\n",
       "      <td>[29.85, 56.95, 53.85, 42.3, 70.7, 99.65, 89.1,...</td>\n",
       "      <td>float64</td>\n",
       "    </tr>\n",
       "    <tr>\n",
       "      <th>19</th>\n",
       "      <td>TotalCharges</td>\n",
       "      <td>[29.85, 1889.5, 108.15, 1840.75, 151.65, 820.5...</td>\n",
       "      <td>object</td>\n",
       "    </tr>\n",
       "    <tr>\n",
       "      <th>20</th>\n",
       "      <td>Churn</td>\n",
       "      <td>[No, Yes]</td>\n",
       "      <td>object</td>\n",
       "    </tr>\n",
       "  </tbody>\n",
       "</table>\n",
       "</div>"
      ],
      "text/plain": [
       "             Столбцы                                Уникальные значения  \\\n",
       "0         customerID  [7590-VHVEG, 5575-GNVDE, 3668-QPYBK, 7795-CFOC...   \n",
       "1             gender                                     [Female, Male]   \n",
       "2      SeniorCitizen                                             [0, 1]   \n",
       "3            Partner                                          [Yes, No]   \n",
       "4         Dependents                                          [No, Yes]   \n",
       "5             tenure  [1, 34, 2, 45, 8, 22, 10, 28, 62, 13, 16, 58, ...   \n",
       "6       PhoneService                                          [No, Yes]   \n",
       "7      MultipleLines                        [No phone service, No, Yes]   \n",
       "8    InternetService                             [DSL, Fiber optic, No]   \n",
       "9     OnlineSecurity                     [No, Yes, No internet service]   \n",
       "10      OnlineBackup                     [Yes, No, No internet service]   \n",
       "11  DeviceProtection                     [No, Yes, No internet service]   \n",
       "12       TechSupport                     [No, Yes, No internet service]   \n",
       "13       StreamingTV                     [No, Yes, No internet service]   \n",
       "14   StreamingMovies                     [No, Yes, No internet service]   \n",
       "15          Contract               [Month-to-month, One year, Two year]   \n",
       "16  PaperlessBilling                                          [Yes, No]   \n",
       "17     PaymentMethod  [Electronic check, Mailed check, Bank transfer...   \n",
       "18    MonthlyCharges  [29.85, 56.95, 53.85, 42.3, 70.7, 99.65, 89.1,...   \n",
       "19      TotalCharges  [29.85, 1889.5, 108.15, 1840.75, 151.65, 820.5...   \n",
       "20             Churn                                          [No, Yes]   \n",
       "\n",
       "   Тип данных  \n",
       "0      object  \n",
       "1      object  \n",
       "2       int64  \n",
       "3      object  \n",
       "4      object  \n",
       "5       int64  \n",
       "6      object  \n",
       "7      object  \n",
       "8      object  \n",
       "9      object  \n",
       "10     object  \n",
       "11     object  \n",
       "12     object  \n",
       "13     object  \n",
       "14     object  \n",
       "15     object  \n",
       "16     object  \n",
       "17     object  \n",
       "18    float64  \n",
       "19     object  \n",
       "20     object  "
      ]
     },
     "execution_count": 8,
     "metadata": {},
     "output_type": "execute_result"
    }
   ],
   "source": [
    "get_uniques(data)"
   ]
  },
  {
   "cell_type": "code",
   "execution_count": 16,
   "metadata": {},
   "outputs": [],
   "source": [
    "data = data.drop('customerID', axis=1)\n",
    "data['TotalCharges'] = pd.to_numeric(data['TotalCharges'], errors='coerce').fillna(0)\n",
    "\n",
    "X = data.drop('Churn', axis=1)\n",
    "y = data['Churn']\n",
    "\n",
    "X_train, X_test, y_train, y_test = train_test_split(\n",
    "    X, y, \n",
    "    test_size=0.2, \n",
    "    stratify=y, \n",
    "    random_state=1\n",
    ")\n",
    "numeric_cols = ['SeniorCitizen', 'tenure', 'MonthlyCharges', 'TotalCharges']\n",
    "X_train[numeric_cols] = X_train[numeric_cols].fillna(0)\n",
    "X_test[numeric_cols] = X_test[numeric_cols].fillna(0)"
   ]
  },
  {
   "cell_type": "markdown",
   "metadata": {},
   "source": [
    "Преобразуйте бинарные признаки через OrdinalEncoder, а категориальные - через OneHotEncoder (с параметром sparse_output=False).\n",
    "\n",
    "Не забудьте удалить преобразованные категориальные колонки из выборок.\n",
    "\n",
    "Какая получилась размерность у тренировочной и тестовой выборок?"
   ]
  },
  {
   "cell_type": "code",
   "execution_count": null,
   "metadata": {},
   "outputs": [
    {
     "name": "stdout",
     "output_type": "stream",
     "text": [
      "Размерность тренировочной выборки: (5634, 40)\n",
      "Размерность тестовой выборки: (1409, 40)\n"
     ]
    }
   ],
   "source": [
    "binary_cols = [\n",
    "    'gender',          \n",
    "    'Partner',         \n",
    "    'Dependents',      \n",
    "    'PhoneService',    \n",
    "    'PaperlessBilling' \n",
    "]\n",
    "categorical_cols = [\n",
    "    'MultipleLines',       \n",
    "    'InternetService',     \n",
    "    'OnlineSecurity',      \n",
    "    'OnlineBackup',        \n",
    "    'DeviceProtection',    \n",
    "    'TechSupport',        \n",
    "    'StreamingTV',        \n",
    "    'StreamingMovies',    \n",
    "    'Contract',           \n",
    "    'PaymentMethod'       \n",
    "]\n",
    "ordinal_encoder = OrdinalEncoder()\n",
    "X_train[binary_cols] = ordinal_encoder.fit_transform(X_train[binary_cols])\n",
    "X_test[binary_cols] = ordinal_encoder.transform(X_test[binary_cols])\n",
    "\n",
    "onehot_encoder = OneHotEncoder(sparse_output=False)  # Без drop='first'\n",
    "X_train_cat_encoded = onehot_encoder.fit_transform(X_train[categorical_cols])\n",
    "X_test_cat_encoded = onehot_encoder.transform(X_test[categorical_cols])\n",
    "\n",
    "encoded_cat_cols = onehot_encoder.get_feature_names_out(categorical_cols)\n",
    "X_train_encoded = pd.DataFrame(X_train_cat_encoded, columns=encoded_cat_cols, index=X_train.index)\n",
    "X_test_encoded = pd.DataFrame(X_test_cat_encoded, columns=encoded_cat_cols, index=X_test.index)\n",
    "X_train_final = pd.concat([X_train.drop(categorical_cols, axis=1), X_train_encoded], axis=1)\n",
    "X_test_final = pd.concat([X_test.drop(categorical_cols, axis=1), X_test_encoded], axis=1)\n",
    "\n",
    "print(\"Размерность тренировочной выборки:\", X_train_final.shape)\n",
    "print(\"Размерность тестовой выборки:\", X_test_final.shape)"
   ]
  },
  {
   "cell_type": "markdown",
   "metadata": {},
   "source": [
    "Обучите случайный лес на базовых гиперпараметрах с фиксированным random_state=1 и посчитайте метрику f1 с усреднением macro на тренировочной и тестовой выборках.\n",
    "\n",
    "Обучите градиентный бустинг из sklearn на базовых гиперпараметрах с фиксированным random_state=1 и посчитайте метрику f1 с усреднением macro на тренировочной и тестовой выборках.\n",
    "\n",
    "Укажите, на сколько метрика на тесте на градиентном бустинге лучше, чем на случайном лесу, округлив до второго знака после точки."
   ]
  },
  {
   "cell_type": "code",
   "execution_count": 19,
   "metadata": {},
   "outputs": [
    {
     "name": "stdout",
     "output_type": "stream",
     "text": [
      "Random Forest:\n",
      "F1 (train, macro): 0.9970\n",
      "F1 (test, macro): 0.6999\n"
     ]
    }
   ],
   "source": [
    "rf = RandomForestClassifier(random_state=1)\n",
    "rf.fit(X_train_final, y_train)\n",
    "y_train_pred_rf = rf.predict(X_train_final)\n",
    "y_test_pred_rf = rf.predict(X_test_final)\n",
    "f1_train_rf = f1_score(y_train, y_train_pred_rf, average='macro')\n",
    "f1_test_rf = f1_score(y_test, y_test_pred_rf, average='macro')\n",
    "\n",
    "print(\"Random Forest:\")\n",
    "print(f\"F1 (train, macro): {f1_train_rf:.4f}\")\n",
    "print(f\"F1 (test, macro): {f1_test_rf:.4f}\")"
   ]
  },
  {
   "cell_type": "code",
   "execution_count": null,
   "metadata": {},
   "outputs": [
    {
     "name": "stdout",
     "output_type": "stream",
     "text": [
      "\n",
      "Gradient Boosting:\n",
      "F1 (train, macro): 0.7592\n",
      "F1 (test, macro): 0.7316\n"
     ]
    }
   ],
   "source": [
    "gb = GradientBoostingClassifier(random_state=1)\n",
    "gb.fit(X_train_final, y_train)\n",
    "\n",
    "y_train_pred_gb = gb.predict(X_train_final)\n",
    "y_test_pred_gb = gb.predict(X_test_final)\n",
    "f1_train_gb = f1_score(y_train, y_train_pred_gb, average='macro')\n",
    "f1_test_gb = f1_score(y_test, y_test_pred_gb, average='macro')\n",
    "\n",
    "print(\"\\nGradient Boosting:\")\n",
    "print(f\"F1 (train, macro): {f1_train_gb:.4f}\")\n",
    "print(f\"F1 (test, macro): {f1_test_gb:.4f}\")"
   ]
  },
  {
   "cell_type": "code",
   "execution_count": 21,
   "metadata": {},
   "outputs": [
    {
     "name": "stdout",
     "output_type": "stream",
     "text": [
      "\n",
      "Улучшение F1 (тест, macro): 0.03\n"
     ]
    }
   ],
   "source": [
    "improvement = f1_test_gb - f1_test_rf\n",
    "print(f\"\\nУлучшение F1 (тест, macro): {improvement:.2f}\")"
   ]
  },
  {
   "cell_type": "markdown",
   "metadata": {},
   "source": [
    "У модели градиентный бустинг оставьте параметр random_state=1. Измените глубину деревьев от 1 до 20 с шагом 1.\n",
    "\n",
    "Визуализируйте изменение метрики f1 macro на тренировочной и тестовой выборках от параметра глубины."
   ]
  },
  {
   "cell_type": "code",
   "execution_count": 23,
   "metadata": {},
   "outputs": [
    {
     "data": {
      "image/png": "[encoded data removed]",
      "text/plain": [
       "<Figure size 1000x600 with 1 Axes>"
      ]
     },
     "metadata": {},
     "output_type": "display_data"
    }
   ],
   "source": [
    "train_scores = []\n",
    "test_scores = []\n",
    "depths = range(1, 21)\n",
    "\n",
    "for depth in depths:\n",
    "    gb = GradientBoostingClassifier(max_depth=depth, random_state=1)\n",
    "    gb.fit(X_train_final, y_train)\n",
    "    y_train_pred = gb.predict(X_train_final)\n",
    "    y_test_pred = gb.predict(X_test_final)\n",
    "    train_scores.append(f1_score(y_train, y_train_pred, average='macro'))\n",
    "    test_scores.append(f1_score(y_test, y_test_pred, average='macro'))\n",
    "\n",
    "plt.figure(figsize=(10, 6))\n",
    "plt.plot(depths, train_scores, 'o-', label='Train')\n",
    "plt.plot(depths, test_scores, 'o-', label='Test')\n",
    "plt.xlabel('Глубина деревьев (max_depth)')\n",
    "plt.ylabel('F1 macro score')\n",
    "plt.title('Зависимость F1 macro от глубины деревьев')\n",
    "plt.xticks(depths)\n",
    "plt.grid(True)\n",
    "plt.legend()\n",
    "plt.show()"
   ]
  },
  {
   "cell_type": "markdown",
   "metadata": {},
   "source": [
    "У модели градиентный бустинг оставьте параметр random_state=1. Измените скорость обучения от 0.1 до 0.9 с шагом 0.1.\n",
    "\n",
    "Визуализируйте изменение метрики f1 macro на тренировочной и тестовой выборках от параметра скорости обучения."
   ]
  },
  {
   "cell_type": "code",
   "execution_count": null,
   "metadata": {},
   "outputs": [
    {
     "data": {
      "image/png": "[encoded data removed]",
      "text/plain": [
       "<Figure size 1000x600 with 1 Axes>"
      ]
     },
     "metadata": {},
     "output_type": "display_data"
    },
    {
     "name": "stdout",
     "output_type": "stream",
     "text": [
      "Оптимальная скорость обучения: 0.1\n",
      "Лучший F1 на тесте: 0.7316\n"
     ]
    }
   ],
   "source": [
    "train_scores = []\n",
    "test_scores = []\n",
    "learning_rates = np.arange(0.1, 1.0, 0.1) \n",
    "\n",
    "for lr in learning_rates:\n",
    "    gb = GradientBoostingClassifier(learning_rate=lr, random_state=1)\n",
    "    gb.fit(X_train_final, y_train)\n",
    "    y_train_pred = gb.predict(X_train_final)\n",
    "    y_test_pred = gb.predict(X_test_final)\n",
    "    train_scores.append(f1_score(y_train, y_train_pred, average='macro'))\n",
    "    test_scores.append(f1_score(y_test, y_test_pred, average='macro'))\n",
    "\n",
    "plt.figure(figsize=(10, 6))\n",
    "plt.plot(learning_rates, train_scores, 'o-', label='Train')\n",
    "plt.plot(learning_rates, test_scores, 'o-', label='Test')\n",
    "plt.xlabel('Скорость обучения (learning_rate)')\n",
    "plt.ylabel('F1 macro score')\n",
    "plt.title('Зависимость F1 macro от скорости обучения')\n",
    "plt.xticks(learning_rates)\n",
    "plt.grid(True)\n",
    "plt.legend()\n",
    "plt.show()\n",
    "\n",
    "best_lr = learning_rates[np.argmax(test_scores)]\n",
    "print(f\"Оптимальная скорость обучения: {best_lr:.1f}\")\n",
    "print(f\"Лучший F1 на тесте: {max(test_scores):.4f}\")"
   ]
  },
  {
   "cell_type": "markdown",
   "metadata": {},
   "source": [
    "Обучите модель CatBoost с параметрами random_state=1, n_estimators=100 на данных без не явных пропусков, без идентификатора клиента и без предобработанных категориальных и бинарных переменных, передав в параметр cat_features модели список категориальных и бинарных признаков.\n",
    "\n",
    "Укажите метрику F1 macro на тестовой выборке, округлив ее до третьего знака после точки."
   ]
  },
  {
   "cell_type": "code",
   "execution_count": 29,
   "metadata": {},
   "outputs": [
    {
     "name": "stdout",
     "output_type": "stream",
     "text": [
      "F1 macro (test): 0.732\n"
     ]
    }
   ],
   "source": [
    "X_train_fixed = X_train.copy()\n",
    "X_test_fixed = X_test.copy()\n",
    "\n",
    "# Список всех категориальных признаков (включая бинарные)\n",
    "cat_features = [\n",
    "    'gender', 'SeniorCitizen', 'Partner', 'Dependents',\n",
    "    'PhoneService', 'MultipleLines', 'InternetService',\n",
    "    'OnlineSecurity', 'OnlineBackup', 'DeviceProtection',\n",
    "    'TechSupport', 'StreamingTV', 'StreamingMovies',\n",
    "    'Contract', 'PaperlessBilling', 'PaymentMethod'\n",
    "]\n",
    "\n",
    "# Преобразуем ВСЕ категориальные признаки в строковый тип\n",
    "for col in cat_features:\n",
    "    X_train_fixed[col] = X_train_fixed[col].astype(str)\n",
    "    X_test_fixed[col] = X_test_fixed[col].astype(str)\n",
    "\n",
    "# Убедимся, что в числовых признаках нет пропусков\n",
    "numeric_cols = ['tenure', 'MonthlyCharges', 'TotalCharges']\n",
    "X_train_fixed[numeric_cols] = X_train_fixed[numeric_cols].fillna(0)\n",
    "X_test_fixed[numeric_cols] = X_test_fixed[numeric_cols].fillna(0)\n",
    "\n",
    "# Инициализация модели\n",
    "model = CatBoostClassifier(\n",
    "    random_state=1,\n",
    "    n_estimators=100,\n",
    "    cat_features=cat_features,\n",
    "    verbose=0\n",
    ")\n",
    "\n",
    "# Обучение модели\n",
    "model.fit(X_train_fixed, y_train)\n",
    "\n",
    "# Предсказание и оценка\n",
    "y_pred = model.predict(X_test_fixed)\n",
    "f1 = f1_score(y_test, y_pred, average='macro')\n",
    "\n",
    "print(f\"F1 macro (test): {f1:.3f}\")"
   ]
  },
  {
   "cell_type": "markdown",
   "metadata": {},
   "source": [
    "В этом задании будем делать свой градиентный бустинг.\n",
    "\n",
    "Нужно сделать класс с методами:\n",
    "\n",
    "_ _init_ _ - на вход передаются параметры n_estimators, learning_rate, max_depth\n",
    "\n",
    "fit - на вход передаются параметры X, y\n",
    "\n",
    "predict - на вход передаются параметры X, y\n",
    "\n",
    "Первое предсказание сделайте, как среднее целевых значений на тренировочной выборке, последующие - предсказания отклонений (y - y_hat). Пользуйтесь деревьями решений для задачи регрессии, фиксируйте у них random_state номером дерева в ансамбле, начиная с 0.\n",
    "\n",
    "Можете воспользоваться заготовкой.\n",
    "\n",
    "Обучите получившуюся модель на тренировочной выборке, где обработаны пропуски и категории, сделайте предсказания на тестовой выборке и укажите метрику качества f1 macro, округлив её до третьего знака после точки. Например. 0,111"
   ]
  },
  {
   "cell_type": "code",
   "execution_count": null,
   "metadata": {},
   "outputs": [
    {
     "name": "stdout",
     "output_type": "stream",
     "text": [
      "F1 macro (test): 0.716\n"
     ]
    }
   ],
   "source": [
    "class GradientBoosting:\n",
    "    def __init__(self, n_estimators=100, learning_rate=0.1, max_depth=3):\n",
    "        self.n_estimators = n_estimators\n",
    "        self.learning_rate = learning_rate\n",
    "        self.max_depth = max_depth\n",
    "        self.trees = []\n",
    "        self.base_pred = None\n",
    "        self.le = LabelEncoder()\n",
    "\n",
    "    def fit(self, X, y):\n",
    "        y = self.le.fit_transform(y)\n",
    "        self.base_pred = np.mean(y)\n",
    "        y_hat = np.full_like(y, self.base_pred, dtype=float)\n",
    "        residuals = y - y_hat\n",
    "\n",
    "        for i in range(self.n_estimators):\n",
    "            tree = DecisionTreeRegressor(max_depth=self.max_depth, random_state=i)\n",
    "            tree.fit(X, residuals)\n",
    "            self.trees.append(tree)\n",
    "            predictions = tree.predict(X)\n",
    "            y_hat += self.learning_rate * predictions\n",
    "            residuals = y - y_hat\n",
    "\n",
    "    def predict(self, X):\n",
    "        y_hat = np.full(X.shape[0], self.base_pred)  \n",
    "        for tree in self.trees:\n",
    "            y_hat += self.learning_rate * tree.predict(X)\n",
    "        binary_pred = np.where(y_hat > 0.5, 1, 0)\n",
    "        return self.le.inverse_transform(binary_pred)\n",
    "\n",
    "gb = GradientBoosting(n_estimators=100, learning_rate=0.1, max_depth=3)\n",
    "gb.fit(X_train_final.values, y_train.values)\n",
    "y_pred = gb.predict(X_test_final.values)\n",
    "f1 = f1_score(y_test, y_pred, average='macro')\n",
    "\n",
    "print(f\"F1 macro (test): {f1:.3f}\")"
   ]
  }
 ],
 "metadata": {
  "kernelspec": {
   "display_name": "Python 3",
   "language": "python",
   "name": "python3"
  },
  "language_info": {
   "codemirror_mode": {
    "name": "ipython",
    "version": 3
   },
   "file_extension": ".py",
   "mimetype": "text/x-python",
   "name": "python",
   "nbconvert_exporter": "python",
   "pygments_lexer": "ipython3",
   "version": "3.11.0"
  }
 },
 "nbformat": 4,
 "nbformat_minor": 2
}
