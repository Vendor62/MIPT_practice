{
 "cells": [
  {
   "cell_type": "markdown",
   "metadata": {},
   "source": [
    "## Программирование на Python: экзаменационная работа\n",
    "\n",
    "### Задача 1\n",
    "Обратный порядок слов в блоках текста. Дан текстовый файл, каждое предложение которого занимает одну строку. Напишите программу, которая разделяет текст на блоки — каждый блок состоит из нескольких предложений. Затем переворачивает порядок слов только внутри каждого предложения, не меняя порядок самих предложений в блоке.  \n",
    "\n",
    "Файл содержит:  \n",
    "\n",
    "Привет как дела  \n",
    "\n",
    "На улице идет дождь  \n",
    "\n",
    "Я люблю программирование"
   ]
  },
  {
   "cell_type": "code",
   "execution_count": 29,
   "metadata": {},
   "outputs": [
    {
     "name": "stdout",
     "output_type": "stream",
     "text": [
      "дела как Привет\n",
      "\n",
      "дождь идет улице На\n",
      "\n",
      "программирование люблю Я\n"
     ]
    }
   ],
   "source": [
    "file_path = 'D:\\\\ds\\\\task1.txt'\n",
    "\n",
    "def reverse(string):\n",
    "    return ' '.join(string.split()[::-1])\n",
    "\n",
    "def process(file_path):\n",
    "    with open(file_path, 'r', encoding='utf-8') as file:\n",
    "        lines = []\n",
    "        for line in file.readlines():\n",
    "            stripped_line = line.strip()\n",
    "            lines.append(stripped_line)\n",
    "                \n",
    "    processed_lines = []\n",
    "    for line in lines:\n",
    "        processed_lines.append(reverse(line))\n",
    "        \n",
    "    return '\\n'.join(processed_lines)\n",
    "\n",
    "result = process(file_path)\n",
    "print(result)"
   ]
  },
  {
   "cell_type": "markdown",
   "metadata": {},
   "source": [
    "### Задача 2\n",
    "Напишите функцию, которая принимает строку (строки содержат произвольные символы, включая пробелы и спецсимволы, и требуют точного учета длины при кодировании) и сжимает ее сериями одинаковых символов в формате \"символ + количество\", но только если длина сжатой строки не превышает исходную. \n",
    "\n",
    "Примеры:  \n",
    "\n",
    "Вход: \"aaabbc\" — вывод: \"a3b2c\".  \n",
    "Вход: \"abcd\" — вывод: \"abcd\" (так как сжатая равна). \n"
   ]
  },
  {
   "cell_type": "code",
   "execution_count": 38,
   "metadata": {},
   "outputs": [
    {
     "name": "stdout",
     "output_type": "stream",
     "text": [
      "a3b2c\n",
      "abcd\n"
     ]
    }
   ],
   "source": [
    "def compress(string):\n",
    "    compressed = []\n",
    "    count = 1\n",
    "\n",
    "    for i in range(1, len(string)):\n",
    "        if string[i] == string[i - 1]:\n",
    "            count += 1\n",
    "        else:\n",
    "            if count > 1:\n",
    "                compressed.append(f\"{string[i - 1]}{count}\")\n",
    "            else:\n",
    "                compressed.append(f\"{string[i - 1]}\")\n",
    "            count = 1 \n",
    "\n",
    "    if string:\n",
    "        if count > 1:\n",
    "            compressed.append(f\"{string[-1]}{count}\")\n",
    "        else:\n",
    "            compressed.append(f\"{string[-1]}\")\n",
    "\n",
    "    compressed_str = ''.join(compressed)\n",
    "\n",
    "    if len(compressed_str) < len(string):\n",
    "        return compressed_str\n",
    "    else:\n",
    "        return string\n",
    "\n",
    "print(compress(\"aaabbc\"))\n",
    "print(compress(\"abcd\"))    "
   ]
  },
  {
   "cell_type": "markdown",
   "metadata": {},
   "source": [
    "### Задача 3\n",
    "Хаотичные скобки. Реализуйте функцию, которая проверяет, правильно ли расставлены скобки в строке (включая круглые, квадратные и фигурные скобки). "
   ]
  },
  {
   "cell_type": "code",
   "execution_count": 44,
   "metadata": {},
   "outputs": [
    {
     "name": "stdout",
     "output_type": "stream",
     "text": [
      "True\n",
      "False\n",
      "True\n",
      "False\n"
     ]
    }
   ],
   "source": [
    "def check_brackets(string):\n",
    "    stack = []\n",
    "    brackets = {')': '(', ']': '[', '}': '{'}\n",
    "\n",
    "    for i in string:\n",
    "        if i in brackets.values():  \n",
    "            stack.append(i)\n",
    "        elif i in brackets.keys():  \n",
    "            if stack and stack[-1] == brackets[i]:\n",
    "                stack.pop()\n",
    "            else:\n",
    "                return False\n",
    "\n",
    "    return not stack\n",
    "\n",
    "print(check_brackets('{[()]}'))  \n",
    "print(check_brackets('{[(])}')) \n",
    "print(check_brackets('{{[[(())]]}}'))  \n",
    "print(check_brackets('[({})](]'))"
   ]
  },
  {
   "cell_type": "markdown",
   "metadata": {},
   "source": [
    "### Задача 4\n",
    "Генератор случайных паролей. Напишите функцию, которая генерирует пароль заданной длины. \n",
    "\n",
    "В реализации надо учитывать следующие условия:  \n",
    "- пароль должен содержать буквы, цифры и специальные символы;\n",
    "- длина пароля задается пользователем.\n"
   ]
  },
  {
   "cell_type": "code",
   "execution_count": 53,
   "metadata": {},
   "outputs": [
    {
     "name": "stdout",
     "output_type": "stream",
     "text": [
      "Сгенерированный пароль: o3M^\n"
     ]
    }
   ],
   "source": [
    "import random\n",
    "import string\n",
    "\n",
    "def generate(length):\n",
    "    if length < 4:\n",
    "        raise ValueError('Длина пароля должна быть не менее 4 символов.')\n",
    "\n",
    "    lower = random.choice(string.ascii_lowercase)  \n",
    "    upper = random.choice(string.ascii_uppercase)  \n",
    "    digit = random.choice(string.digits)          \n",
    "    special = random.choice('!@#$%^&*()-_=+[]{}|;:,.<>?/')  \n",
    "\n",
    "    all_characters = string.ascii_letters + string.digits + '!@#$%^&*()-_=+[]{}|;:,.<>?/'\n",
    "    \n",
    "    remaining = []\n",
    "    for _ in range(length - 4): \n",
    "        remaining.append(random.choice(all_characters))\n",
    "\n",
    "    password_lst = list(lower + upper + digit + special) + remaining\n",
    "    random.shuffle(password_lst)\n",
    "    \n",
    "    return ''.join(password_lst)\n",
    "\n",
    "try:\n",
    "    length = int(input('Введите длину пароля:'))\n",
    "    print('Сгенерированный пароль:', generate(length))\n",
    "except ValueError as e:\n",
    "    print('Ошибка:', e)"
   ]
  },
  {
   "cell_type": "markdown",
   "metadata": {},
   "source": [
    "### Задача 5\n",
    "Эмуляция работы электронной очереди. Напишите класс для симуляции работы электронной очереди, например, в банке.\n",
    "\n",
    "Необходимо выполнить следующие условия:\n",
    "- Система должна поддерживать добавление клиентов с указанием их приоритета (например, VIP, обычный).\n",
    "- Выбор клиента для следующей обработки должен учитывать приоритет.\n",
    "- Реализуйте отчет для администрации с информацией, сколько времени заняло обслуживание клиентов.\n"
   ]
  },
  {
   "cell_type": "code",
   "execution_count": 62,
   "metadata": {},
   "outputs": [
    {
     "name": "stdout",
     "output_type": "stream",
     "text": [
      "Обслуживается клиент: Клиент 1\n",
      "Обслуживается клиент: Клиент 3\n",
      "Обслуживается клиент: Клиент 2\n",
      "Обслуживается клиент: Клиент 4\n",
      "Отчет: {'Всего клиентов обслужено': 4, 'Среднее время обслуживания (сек)': 2.5021896362304688}\n"
     ]
    }
   ],
   "source": [
    "import time\n",
    "from collections import deque\n",
    "\n",
    "class ElectronicQueue:\n",
    "    def __init__(self):\n",
    "        self.vip_queue = deque()\n",
    "        self.regular_queue = deque()\n",
    "        self.start_times = {}\n",
    "        self.service_times = []\n",
    "\n",
    "    def add_client(self, client_id, priority='обычный'):\n",
    "        if priority == 'VIP':\n",
    "            self.vip_queue.append(client_id)\n",
    "        elif priority == 'обычный':\n",
    "            self.regular_queue.append(client_id)\n",
    "        else:\n",
    "            raise ValueError('Неверный приоритет. Используйте \"VIP\" или \"обычный\".')\n",
    "        \n",
    "        self.start_times[client_id] = time.time()\n",
    "\n",
    "    def get_next_client(self):\n",
    "        if self.vip_queue:\n",
    "            return self.vip_queue.popleft()\n",
    "        elif self.regular_queue:\n",
    "            return self.regular_queue.popleft()\n",
    "        else:\n",
    "            return None\n",
    "\n",
    "    def complete_service(self, client_id):\n",
    "        if client_id in self.start_times:\n",
    "            end_time = time.time()\n",
    "            service_time = end_time - self.start_times[client_id]\n",
    "            self.service_times.append(service_time)\n",
    "            del self.start_times[client_id]\n",
    "        else:\n",
    "            raise ValueError('ID клиента не найден.')\n",
    "\n",
    "    def generate_report(self):\n",
    "        total_clients = len(self.service_times)\n",
    "        average_time = sum(self.service_times) / total_clients if total_clients > 0 else 0\n",
    "        return {\n",
    "            \"Всего клиентов обслужено\": total_clients,\n",
    "            \"Среднее время обслуживания (сек)\": average_time\n",
    "        }\n",
    "\n",
    "queue = ElectronicQueue()\n",
    "queue.add_client('Клиент 1', priority='VIP')\n",
    "queue.add_client('Клиент 2', priority='обычный')\n",
    "queue.add_client('Клиент 3', priority='VIP')\n",
    "queue.add_client('Клиент 4', priority='обычный')\n",
    "\n",
    "for _ in range(4):\n",
    "    client = queue.get_next_client()\n",
    "    if client:\n",
    "        print(f'Обслуживается клиент: {client}')\n",
    "        time.sleep(1)\n",
    "        queue.complete_service(client)\n",
    "\n",
    "report = queue.generate_report()\n",
    "print('Отчет:', report)"
   ]
  },
  {
   "cell_type": "markdown",
   "metadata": {},
   "source": [
    "### Задача 6\n",
    "Проверка на «почти палиндром». Напишите программу, которая проверяет, является ли строка палиндромом или  «почти палиндромом». «Почти палиндром» означает, что можно удалить одну букву, чтобы строка стала палиндромом. "
   ]
  },
  {
   "cell_type": "code",
   "execution_count": 56,
   "metadata": {},
   "outputs": [
    {
     "name": "stdout",
     "output_type": "stream",
     "text": [
      "True\n",
      "True\n",
      "False\n",
      "True\n"
     ]
    }
   ],
   "source": [
    "def is_palindrome(string):\n",
    "    return string == string[::-1]\n",
    "\n",
    "def is_almost_palindrome(string):\n",
    "    left, right = 0, len(string) - 1\n",
    "\n",
    "    while left < right:\n",
    "        if string[left] != string[right]:\n",
    "            without_left = string[left + 1:right + 1]\n",
    "            without_right = string[left:right]\n",
    "            return is_palindrome(without_left) or is_palindrome(without_right)\n",
    "        left += 1\n",
    "        right -= 1\n",
    "\n",
    "    return True  \n",
    "\n",
    "print(is_almost_palindrome(\"abca\"))  \n",
    "print(is_almost_palindrome(\"racecar\"))  \n",
    "print(is_almost_palindrome(\"abcdef\")) \n",
    "print(is_almost_palindrome(\"radkar\"))\n"
   ]
  },
  {
   "cell_type": "markdown",
   "metadata": {},
   "source": [
    "### Задача 7\n",
    "Задача Шредингера. Разработайте программу, которая «стирает» фрагменты текста в файле. \n",
    "\n",
    "Например:\n",
    "\n",
    "1. Пользователь указывает файл и процент текста, который нужно удалить (допустим, 30%).  \n",
    "\n",
    "2. Программа случайно выбирает слова или части абзацев и заменяет их на пробел или «...», сохраняя общий объем документа.     \n",
    "\n",
    "Вход:  \n",
    "\n",
    "Сегодня солнечный день, и я собираюсь гулять в парке с моими друзьями.\n",
    "\n",
    "Вывод (удалено ~30%):  \n",
    "\n",
    "Сегодня ... день, и я собираюсь гулять ... моими друзьями."
   ]
  },
  {
   "cell_type": "code",
   "execution_count": 59,
   "metadata": {},
   "outputs": [
    {
     "name": "stdout",
     "output_type": "stream",
     "text": [
      "Измененный текст:\n",
      " ... ... день, и я собираюсь гулять в парке с ... друзьями\n"
     ]
    }
   ],
   "source": [
    "import random\n",
    "\n",
    "def erase_text(file_path, percent):\n",
    "    if not (0 <= percent <= 100):\n",
    "        raise ValueError('Процент должен быть в диапазоне от 0 до 100.')\n",
    "\n",
    "    with open(file_path, 'r', encoding='utf-8') as file:\n",
    "        text = file.read()\n",
    "\n",
    "    words = text.split()\n",
    "    total_words = len(words)\n",
    "    words_to_erase = int(total_words * (percent / 100))\n",
    "\n",
    "    indices_to_erase = random.sample(range(total_words), words_to_erase)\n",
    "\n",
    "    for index in indices_to_erase:\n",
    "        words[index] = '...'\n",
    "        \n",
    "    result_text = ' '.join(words)\n",
    "\n",
    "    print('Измененный текст:\\n', result_text)\n",
    "\n",
    "file_path = input('Введите путь к файлу:')\n",
    "percent = float(input('Введите процент текста, который нужно удалить:'))\n",
    "\n",
    "try:\n",
    "    erase_text(file_path, percent)\n",
    "except Exception as e:\n",
    "    print('Ошибка:', e)"
   ]
  }
 ],
 "metadata": {
  "kernelspec": {
   "display_name": "Python 3",
   "language": "python",
   "name": "python3"
  },
  "language_info": {
   "codemirror_mode": {
    "name": "ipython",
    "version": 3
   },
   "file_extension": ".py",
   "mimetype": "text/x-python",
   "name": "python",
   "nbconvert_exporter": "python",
   "pygments_lexer": "ipython3",
   "version": "3.11.0"
  }
 },
 "nbformat": 4,
 "nbformat_minor": 2
}
